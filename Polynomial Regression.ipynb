{
 "cells": [
  {
   "cell_type": "markdown",
   "metadata": {},
   "source": [
    "# Polynomial Regression\n",
    "In this notebook, linear regression using polynomial features is applied and visualized. The effect of adding a regularizer to the least squares function on over-fitting is visualized.\n",
    "\n",
    "[Check my Github repository for similar introductory notebooks](https://github.com/YZouzou/ML-Topics-Intro)"
   ]
  },
  {
   "cell_type": "code",
   "execution_count": 197,
   "metadata": {},
   "outputs": [],
   "source": [
    "import numpy as np\n",
    "from sklearn.preprocessing import PolynomialFeatures\n",
    "import matplotlib.pyplot as plt\n",
    "from sklearn.linear_model import Ridge, Lasso\n",
    "from ipywidgets import interact\n",
    "import ipywidgets as widgets\n",
    "plt.style.use('bmh')"
   ]
  },
  {
   "cell_type": "markdown",
   "metadata": {},
   "source": [
    "### `linear_regr()`\n",
    "This function calculates the linear regression coefficients and intercept using the least squares method. The coefficients are calculated from the centered data (mean subtracted) and then the intercept is calculated using the mean values of the original (uncentered) data."
   ]
  },
  {
   "cell_type": "code",
   "execution_count": 54,
   "metadata": {},
   "outputs": [],
   "source": [
    "def linear_regr(x, y):\n",
    "    x_norm = x - x.mean(axis = 0)\n",
    "    y_norm = y - y.mean(axis = 0)\n",
    "    Theta = np.linalg.inv(x_norm.T @ x_norm) @ x_norm.T @ y_norm\n",
    "    b = y.mean(axis = 0) - x.mean(axis = 0) @ Theta\n",
    "    return np.append(b, Theta.flatten())"
   ]
  },
  {
   "cell_type": "markdown",
   "metadata": {},
   "source": [
    "### `ridge_regr`\n",
    "This function calculates the linear regression coefficients and intercept using the least squares method with a Ridge (L2) regularizer. Values are centered first and the intercept is calculated using the mean values of the original (uncentered) data."
   ]
  },
  {
   "cell_type": "code",
   "execution_count": 53,
   "metadata": {},
   "outputs": [],
   "source": [
    "def ridge_regr(x, y, delta):\n",
    "    x_norm = x - x.mean(axis = 0)\n",
    "    y_norm = y - y.mean(axis = 0)\n",
    "    \n",
    "    Theta = np.linalg.inv(x_norm.T @ x_norm + delta * np.eye(x.shape[1])) @ x_norm.T @ y_norm\n",
    "    b = y.mean(axis = 0) - x.mean(axis = 0) @ Theta\n",
    "    \n",
    "    return np.append(b, Theta.flatten())"
   ]
  },
  {
   "cell_type": "markdown",
   "metadata": {},
   "source": [
    "### `poly(x, degree)`\n",
    "This function creates the polynomial features array from a univariate input feature vector."
   ]
  },
  {
   "cell_type": "code",
   "execution_count": 27,
   "metadata": {},
   "outputs": [],
   "source": [
    "def poly(x, degree):\n",
    "    poly_x = np.zeros((x.shape[0], degree + 1))\n",
    "    for n in range(degree + 1):\n",
    "        poly_x[:, n] = x**n\n",
    "    return poly_x"
   ]
  },
  {
   "cell_type": "markdown",
   "metadata": {},
   "source": [
    "### Polynomial Regression\n",
    "* Using polynomial transform, every X data instance is transformed to a new instance with more features.\n",
    "* These features include different exponentials and combinations to create a polynomial regression.\n",
    "* Using the new features a normal linear or ridge regression can be applied on these features.\n",
    "\n",
    "Think of it as moving to a higher dimensional space and applying a linear regression in that space on the transformed features, where the transformed features are polynomial combinations of the original features."
   ]
  },
  {
   "cell_type": "markdown",
   "metadata": {},
   "source": [
    "**Creating a noisy set of points**"
   ]
  },
  {
   "cell_type": "code",
   "execution_count": 228,
   "metadata": {},
   "outputs": [
    {
     "data": {
      "image/png": "[encoded data removed]",
      "text/plain": [
       "<Figure size 576x432 with 1 Axes>"
      ]
     },
     "metadata": {
      "needs_background": "light"
     },
     "output_type": "display_data"
    }
   ],
   "source": [
    "x = np.linspace(-5, 5, 100)\n",
    "y_real = 25 - 2*x + 3*x**2 -2*x**3 - 0.2*x**4 + 0.1*x**5\n",
    "y = y_real + np.random.randn(100) * 10\n",
    "\n",
    "plt.figure(figsize = (8, 6))\n",
    "plt.scatter(x, y, color = 'red', s = 10, label = 'Noisy data points')\n",
    "plt.plot(x, y_real, label = 'Real function')\n",
    "plt.legend()\n",
    "plt.show()"
   ]
  },
  {
   "cell_type": "markdown",
   "metadata": {},
   "source": [
    "**Set degree of regression curve:**"
   ]
  },
  {
   "cell_type": "code",
   "execution_count": 236,
   "metadata": {},
   "outputs": [],
   "source": [
    "degree = 14\n",
    "poly_x = poly(x, degree)"
   ]
  },
  {
   "cell_type": "markdown",
   "metadata": {},
   "source": [
    "### Visualizing regularizer effect on polynomial fitting\n",
    "Notice that increasing $\\delta^{2}$ increases the smoothness of the regression curve and therefore avoids overfitting. However, for larger $\\delta^{2}$ values, results become far from realistic (under-fit)."
   ]
  },
  {
   "cell_type": "code",
   "execution_count": 237,
   "metadata": {},
   "outputs": [
    {
     "data": {
      "application/vnd.jupyter.widget-view+json": {
       "model_id": "abec4ed564e6468895846aec32cd4263",
       "version_major": 2,
       "version_minor": 0
      },
      "text/plain": [
       "interactive(children=(FloatSlider(value=-6.0, description='delta', max=10.0, min=-6.0, step=3.0), Output()), _…"
      ]
     },
     "metadata": {},
     "output_type": "display_data"
    }
   ],
   "source": [
    "@interact(delta = widgets.FloatSlider(min = -6, max = 10, step = 3.0, value = -6))\n",
    "def plot_poly_regr(delta):\n",
    "    delta = 2**delta\n",
    "    theta = ridge_regr(poly_x[:, 1:], y, delta)\n",
    "\n",
    "    y_hat = poly_x @ theta\n",
    "\n",
    "    plt.figure(figsize = (8, 6))\n",
    "    plt.scatter(x, y, color = 'red', s = 10, label = 'Data points')\n",
    "    plt.plot(x, y_hat, label = 'Regression line')\n",
    "    \n",
    "    plt.xlim(min(x)-1, max(x) + 1)\n",
    "    plt.ylim(min(y)-1, max(y) + 1)\n",
    "    plt.title('\\u03B4\\u00B2 = {:.2f}'.format(delta))\n",
    "    plt.xlabel('x')\n",
    "    plt.ylabel('y_hat')\n",
    "    plt.plot(x, y_real, color = 'black', alpha = 0.5, label = 'Real function')\n",
    "    plt.legend()\n",
    "\n",
    "\n",
    "plt.show()"
   ]
  },
  {
   "cell_type": "code",
   "execution_count": null,
   "metadata": {},
   "outputs": [],
   "source": []
  }
 ],
 "metadata": {
  "kernelspec": {
   "display_name": "Python 3",
   "language": "python",
   "name": "python3"
  },
  "language_info": {
   "codemirror_mode": {
    "name": "ipython",
    "version": 3
   },
   "file_extension": ".py",
   "mimetype": "text/x-python",
   "name": "python",
   "nbconvert_exporter": "python",
   "pygments_lexer": "ipython3",
   "version": "3.7.4"
  }
 },
 "nbformat": 4,
 "nbformat_minor": 2
}
