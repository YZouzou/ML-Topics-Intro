{
 "cells": [
  {
   "cell_type": "markdown",
   "metadata": {},
   "source": [
    "## Categorical Distributions and Naive Bayes Classification\n",
    "This notebook contains an implementation of Naive Bayes Clasification algorithm using both maximum likelihood estimation and Bayesian analysis. The algorithm is applied on the [Sentiment 140 dataset](https://www.kaggle.com/kazanova/sentiment140/download) from **kaggle.com**. Tweets are first filtered and vectorized before using them as inputs to the Naive Bayes classifier.\n",
    "\n",
    "This notebook is based on a homework in the [CPSC 340 ML course](https://www.youtube.com/playlist?list=PLE6Wd9FR--Ecf_5nCbnSQMHqORpiChfJf) by Prof. Nando de Freitas:\n",
    "* [Lecture Notes](https://www.cs.ubc.ca/~nando/340-2012/lectures/l19.pdf)\n",
    "* [Homework](https://www.cs.ubc.ca/~nando/340-2012/lectures/homework5.pdf)\n",
    "\n",
    "[Check my Github repository for similar introductory notebooks](https://github.com/YZouzou/ML-Topics-Intro)"
   ]
  },
  {
   "cell_type": "code",
   "execution_count": 1,
   "metadata": {},
   "outputs": [],
   "source": [
    "import pandas as pd\n",
    "import numpy as np\n",
    "import matplotlib.pyplot as plt\n",
    "import re\n",
    "from sklearn.model_selection import train_test_split\n",
    "from scipy.special import gamma\n",
    "import scipy as sp\n",
    "\n",
    "from ipywidgets import interact\n",
    "import ipywidgets as widgets\n",
    "\n",
    "import nltk\n",
    "from nltk.corpus import stopwords\n",
    "from nltk.stem.snowball import SnowballStemmer\n",
    "# nltk.download('stopwords')\n",
    "# nltk.download('punkt')\n",
    "\n",
    "from sklearn.feature_extraction.text import CountVectorizer\n",
    "from sklearn import naive_bayes"
   ]
  },
  {
   "cell_type": "markdown",
   "metadata": {},
   "source": [
    "### Beta Distribution\n",
    "* The beta distribution is a distribution between 0 and 1 of a single variable. It is used as the prior of a binary categorical variable parameter.\n",
    "\n",
    "$$ Beta(\\alpha, \\beta) = \\frac{\\Gamma(\\alpha+\\beta)}{\\Gamma(\\alpha)\\cdot\\Gamma(\\beta)}\\cdot\n",
    "\\theta^{\\alpha-1} \\cdot (1-\\theta)^{\\beta - 1} $$"
   ]
  },
  {
   "cell_type": "code",
   "execution_count": 2,
   "metadata": {},
   "outputs": [],
   "source": [
    "def beta_dist(x, alpha, beta):\n",
    "    return (gamma(alpha + beta) / (gamma(alpha) * gamma(beta))) * x**(alpha - 1) * (1 - x)**(beta - 1)\n",
    "    "
   ]
  },
  {
   "cell_type": "code",
   "execution_count": 3,
   "metadata": {},
   "outputs": [
    {
     "data": {
      "application/vnd.jupyter.widget-view+json": {
       "model_id": "2d3bbf18aff54a05ada55593c3402933",
       "version_major": 2,
       "version_minor": 0
      },
      "text/plain": [
       "interactive(children=(FloatSlider(value=0.4, description='alpha', max=5.0, min=0.4, step=0.2), FloatSlider(val…"
      ]
     },
     "metadata": {},
     "output_type": "display_data"
    }
   ],
   "source": [
    "@interact (alpha = widgets.FloatSlider(min = 0.4, max = 5, step = 0.2, value = 0.4),\n",
    "          beta = widgets.FloatSlider(min = 0.4, max = 5, step = 0.2, value = 0.4))\n",
    "def plot_beta(alpha, beta):\n",
    "    x = np.linspace(0, 1, 100)[1:-1]\n",
    "    y = beta_dist(x, alpha, beta)\n",
    "    plt.figure(figsize = (8, 6))\n",
    "    plt.plot(x, y)\n",
    "    plt.xlim(min(x), max(x))\n",
    "    plt.ylim(0, 4)\n",
    "    plt.fill_between(x, y, 0, alpha = 0.4)\n",
    "    plt.show()"
   ]
  },
  {
   "cell_type": "markdown",
   "metadata": {},
   "source": [
    "### Sentiment 140 Dataset\n",
    "This dataset is from **kaggle.com** available [here](https://www.kaggle.com/kazanova/sentiment140).\n",
    "\n",
    "#### Readings\n",
    "* [Text Vectorization and Transformation Pipelines](https://www.oreilly.com/library/view/applied-text-analysis/9781491963036/ch04.html)"
   ]
  },
  {
   "cell_type": "code",
   "execution_count": 5,
   "metadata": {},
   "outputs": [],
   "source": [
    "# The data must be downloded from the given link\n",
    "# path = r\"C:\\Users\\XXXX\\Desktop\\Machine Learning\\Projects\\Sentiment Analysis\\training.1600000.processed.noemoticon.csv\"\n",
    "df = pd.read_csv(path, header = None, names = ['Target', 'ID', 'Date', 'Query', 'Username', 'Tweet'], encoding = 'latin-1')"
   ]
  },
  {
   "cell_type": "code",
   "execution_count": 6,
   "metadata": {},
   "outputs": [
    {
     "data": {
      "text/html": [
       "<div>\n",
       "<style scoped>\n",
       "    .dataframe tbody tr th:only-of-type {\n",
       "        vertical-align: middle;\n",
       "    }\n",
       "\n",
       "    .dataframe tbody tr th {\n",
       "        vertical-align: top;\n",
       "    }\n",
       "\n",
       "    .dataframe thead th {\n",
       "        text-align: right;\n",
       "    }\n",
       "</style>\n",
       "<table border=\"1\" class=\"dataframe\">\n",
       "  <thead>\n",
       "    <tr style=\"text-align: right;\">\n",
       "      <th></th>\n",
       "      <th>Target</th>\n",
       "      <th>ID</th>\n",
       "      <th>Date</th>\n",
       "      <th>Query</th>\n",
       "      <th>Username</th>\n",
       "      <th>Tweet</th>\n",
       "    </tr>\n",
       "  </thead>\n",
       "  <tbody>\n",
       "    <tr>\n",
       "      <td>0</td>\n",
       "      <td>0</td>\n",
       "      <td>1467810369</td>\n",
       "      <td>Mon Apr 06 22:19:45 PDT 2009</td>\n",
       "      <td>NO_QUERY</td>\n",
       "      <td>_TheSpecialOne_</td>\n",
       "      <td>@switchfoot http://twitpic.com/2y1zl - Awww, t...</td>\n",
       "    </tr>\n",
       "    <tr>\n",
       "      <td>1</td>\n",
       "      <td>0</td>\n",
       "      <td>1467810672</td>\n",
       "      <td>Mon Apr 06 22:19:49 PDT 2009</td>\n",
       "      <td>NO_QUERY</td>\n",
       "      <td>scotthamilton</td>\n",
       "      <td>is upset that he can't update his Facebook by ...</td>\n",
       "    </tr>\n",
       "    <tr>\n",
       "      <td>2</td>\n",
       "      <td>0</td>\n",
       "      <td>1467810917</td>\n",
       "      <td>Mon Apr 06 22:19:53 PDT 2009</td>\n",
       "      <td>NO_QUERY</td>\n",
       "      <td>mattycus</td>\n",
       "      <td>@Kenichan I dived many times for the ball. Man...</td>\n",
       "    </tr>\n",
       "    <tr>\n",
       "      <td>3</td>\n",
       "      <td>0</td>\n",
       "      <td>1467811184</td>\n",
       "      <td>Mon Apr 06 22:19:57 PDT 2009</td>\n",
       "      <td>NO_QUERY</td>\n",
       "      <td>ElleCTF</td>\n",
       "      <td>my whole body feels itchy and like its on fire</td>\n",
       "    </tr>\n",
       "    <tr>\n",
       "      <td>4</td>\n",
       "      <td>0</td>\n",
       "      <td>1467811193</td>\n",
       "      <td>Mon Apr 06 22:19:57 PDT 2009</td>\n",
       "      <td>NO_QUERY</td>\n",
       "      <td>Karoli</td>\n",
       "      <td>@nationwideclass no, it's not behaving at all....</td>\n",
       "    </tr>\n",
       "  </tbody>\n",
       "</table>\n",
       "</div>"
      ],
      "text/plain": [
       "   Target          ID                          Date     Query  \\\n",
       "0       0  1467810369  Mon Apr 06 22:19:45 PDT 2009  NO_QUERY   \n",
       "1       0  1467810672  Mon Apr 06 22:19:49 PDT 2009  NO_QUERY   \n",
       "2       0  1467810917  Mon Apr 06 22:19:53 PDT 2009  NO_QUERY   \n",
       "3       0  1467811184  Mon Apr 06 22:19:57 PDT 2009  NO_QUERY   \n",
       "4       0  1467811193  Mon Apr 06 22:19:57 PDT 2009  NO_QUERY   \n",
       "\n",
       "          Username                                              Tweet  \n",
       "0  _TheSpecialOne_  @switchfoot http://twitpic.com/2y1zl - Awww, t...  \n",
       "1    scotthamilton  is upset that he can't update his Facebook by ...  \n",
       "2         mattycus  @Kenichan I dived many times for the ball. Man...  \n",
       "3          ElleCTF    my whole body feels itchy and like its on fire   \n",
       "4           Karoli  @nationwideclass no, it's not behaving at all....  "
      ]
     },
     "execution_count": 6,
     "metadata": {},
     "output_type": "execute_result"
    }
   ],
   "source": [
    "df.head()"
   ]
  },
  {
   "cell_type": "code",
   "execution_count": 7,
   "metadata": {},
   "outputs": [
    {
     "data": {
      "text/plain": [
       "4    800000\n",
       "0    800000\n",
       "Name: Target, dtype: int64"
      ]
     },
     "execution_count": 7,
     "metadata": {},
     "output_type": "execute_result"
    }
   ],
   "source": [
    "df.Target.value_counts()"
   ]
  },
  {
   "cell_type": "code",
   "execution_count": 8,
   "metadata": {},
   "outputs": [
    {
     "data": {
      "text/plain": [
       "(1600000, 6)"
      ]
     },
     "execution_count": 8,
     "metadata": {},
     "output_type": "execute_result"
    }
   ],
   "source": [
    "df.shape"
   ]
  },
  {
   "cell_type": "markdown",
   "metadata": {},
   "source": [
    "Creating a subset of the dataset with 4000 instances using `df.sample()`"
   ]
  },
  {
   "cell_type": "code",
   "execution_count": 9,
   "metadata": {},
   "outputs": [],
   "source": [
    "all_data = df.sample(n = 4000).reset_index(drop = True)"
   ]
  },
  {
   "cell_type": "code",
   "execution_count": 10,
   "metadata": {},
   "outputs": [
    {
     "name": "stdout",
     "output_type": "stream",
     "text": [
      "Number of positive tweets:\n",
      "2026\n",
      "Number of negative tweets:\n",
      "1974\n"
     ]
    }
   ],
   "source": [
    "print('Number of positive tweets:')\n",
    "print(all_data[all_data['Target'] == 4].shape[0])\n",
    "print('Number of negative tweets:')\n",
    "print(all_data[all_data['Target'] == 0].shape[0])"
   ]
  },
  {
   "cell_type": "code",
   "execution_count": 11,
   "metadata": {},
   "outputs": [
    {
     "data": {
      "text/html": [
       "<div>\n",
       "<style scoped>\n",
       "    .dataframe tbody tr th:only-of-type {\n",
       "        vertical-align: middle;\n",
       "    }\n",
       "\n",
       "    .dataframe tbody tr th {\n",
       "        vertical-align: top;\n",
       "    }\n",
       "\n",
       "    .dataframe thead th {\n",
       "        text-align: right;\n",
       "    }\n",
       "</style>\n",
       "<table border=\"1\" class=\"dataframe\">\n",
       "  <thead>\n",
       "    <tr style=\"text-align: right;\">\n",
       "      <th></th>\n",
       "      <th>Target</th>\n",
       "      <th>ID</th>\n",
       "      <th>Date</th>\n",
       "      <th>Query</th>\n",
       "      <th>Username</th>\n",
       "      <th>Tweet</th>\n",
       "    </tr>\n",
       "  </thead>\n",
       "  <tbody>\n",
       "    <tr>\n",
       "      <td>0</td>\n",
       "      <td>0</td>\n",
       "      <td>2054816432</td>\n",
       "      <td>Sat Jun 06 08:08:26 PDT 2009</td>\n",
       "      <td>NO_QUERY</td>\n",
       "      <td>astradancer</td>\n",
       "      <td>Im super tired and i did nothing</td>\n",
       "    </tr>\n",
       "    <tr>\n",
       "      <td>1</td>\n",
       "      <td>0</td>\n",
       "      <td>2234837329</td>\n",
       "      <td>Thu Jun 18 23:51:28 PDT 2009</td>\n",
       "      <td>NO_QUERY</td>\n",
       "      <td>sportkine</td>\n",
       "      <td>@cyclingdiva But as I was In Japan a few month...</td>\n",
       "    </tr>\n",
       "    <tr>\n",
       "      <td>2</td>\n",
       "      <td>4</td>\n",
       "      <td>2176990022</td>\n",
       "      <td>Mon Jun 15 05:12:45 PDT 2009</td>\n",
       "      <td>NO_QUERY</td>\n",
       "      <td>_LauraFee</td>\n",
       "      <td>@MissIngyO8  im already excited for the card.i...</td>\n",
       "    </tr>\n",
       "    <tr>\n",
       "      <td>3</td>\n",
       "      <td>4</td>\n",
       "      <td>1678390278</td>\n",
       "      <td>Sat May 02 06:33:03 PDT 2009</td>\n",
       "      <td>NO_QUERY</td>\n",
       "      <td>erkx</td>\n",
       "      <td>@ThinkReferrals : Darn, could only pray for th...</td>\n",
       "    </tr>\n",
       "    <tr>\n",
       "      <td>4</td>\n",
       "      <td>0</td>\n",
       "      <td>2014330679</td>\n",
       "      <td>Wed Jun 03 01:10:27 PDT 2009</td>\n",
       "      <td>NO_QUERY</td>\n",
       "      <td>katielynn1</td>\n",
       "      <td>doing boring school work  looking forward to t...</td>\n",
       "    </tr>\n",
       "  </tbody>\n",
       "</table>\n",
       "</div>"
      ],
      "text/plain": [
       "   Target          ID                          Date     Query     Username  \\\n",
       "0       0  2054816432  Sat Jun 06 08:08:26 PDT 2009  NO_QUERY  astradancer   \n",
       "1       0  2234837329  Thu Jun 18 23:51:28 PDT 2009  NO_QUERY    sportkine   \n",
       "2       4  2176990022  Mon Jun 15 05:12:45 PDT 2009  NO_QUERY    _LauraFee   \n",
       "3       4  1678390278  Sat May 02 06:33:03 PDT 2009  NO_QUERY         erkx   \n",
       "4       0  2014330679  Wed Jun 03 01:10:27 PDT 2009  NO_QUERY   katielynn1   \n",
       "\n",
       "                                               Tweet  \n",
       "0                  Im super tired and i did nothing   \n",
       "1  @cyclingdiva But as I was In Japan a few month...  \n",
       "2  @MissIngyO8  im already excited for the card.i...  \n",
       "3  @ThinkReferrals : Darn, could only pray for th...  \n",
       "4  doing boring school work  looking forward to t...  "
      ]
     },
     "execution_count": 11,
     "metadata": {},
     "output_type": "execute_result"
    }
   ],
   "source": [
    "all_data.head()"
   ]
  },
  {
   "cell_type": "markdown",
   "metadata": {},
   "source": [
    "### Preprocessing tweets"
   ]
  },
  {
   "cell_type": "code",
   "execution_count": 12,
   "metadata": {},
   "outputs": [],
   "source": [
    "tweets = all_data['Tweet']"
   ]
  },
  {
   "cell_type": "code",
   "execution_count": 13,
   "metadata": {},
   "outputs": [
    {
     "data": {
      "text/plain": [
       "'WOW too darn hot to work outside! What was I thinking! The gardens can wait!!  '"
      ]
     },
     "execution_count": 13,
     "metadata": {},
     "output_type": "execute_result"
    }
   ],
   "source": [
    "t1 = tweets.iloc[50]\n",
    "t1"
   ]
  },
  {
   "cell_type": "code",
   "execution_count": 14,
   "metadata": {},
   "outputs": [],
   "source": [
    "stop_words = set(stopwords.words('english'))\n",
    "stemmer = SnowballStemmer(language = 'english') "
   ]
  },
  {
   "cell_type": "markdown",
   "metadata": {},
   "source": [
    "`filter_tweet` function removes punctuation marks, URLs, and *stop words* from the tweet and returns the *stems* of the remaining words.\n",
    "\n",
    "**Stop words** are words such as and, it, those, etc. which have no indication of sentiment.\n",
    "\n",
    "**Stemming** is the process of removing suffixes from words and returning the main part of a word, i.e., **stem**. [Read more](https://www.geeksforgeeks.org/introduction-to-stemming)\n",
    "\n",
    "Using this process, we reduce the dimensionality of the feature vector by reducing the vocabulary count."
   ]
  },
  {
   "cell_type": "code",
   "execution_count": 15,
   "metadata": {},
   "outputs": [],
   "source": [
    "def filter_tweet(txt):\n",
    "    word_list = []\n",
    "    m = re.compile(r'\\@\\S+|http\\S+|[^(a-zA-Z\\s)]+')\n",
    "    re_filtered_txt = re.sub(m, '', txt).lower()\n",
    "    for word in re_filtered_txt.split():\n",
    "        if word not in stop_words:\n",
    "            word_list.append(stemmer.stem(word))\n",
    "    return ' '.join(set(word_list))"
   ]
  },
  {
   "cell_type": "code",
   "execution_count": 16,
   "metadata": {},
   "outputs": [
    {
     "data": {
      "text/plain": [
       "'darn work hot wait garden think outsid wow'"
      ]
     },
     "execution_count": 16,
     "metadata": {},
     "output_type": "execute_result"
    }
   ],
   "source": [
    "filter_tweet(t1)"
   ]
  },
  {
   "cell_type": "code",
   "execution_count": 17,
   "metadata": {},
   "outputs": [],
   "source": [
    "all_data['filtered_tweet'] = all_data['Tweet'].apply(filter_tweet)"
   ]
  },
  {
   "cell_type": "markdown",
   "metadata": {},
   "source": [
    "Some tweets are transformed into empty strings after filtering"
   ]
  },
  {
   "cell_type": "code",
   "execution_count": 18,
   "metadata": {},
   "outputs": [
    {
     "data": {
      "text/html": [
       "<div>\n",
       "<style scoped>\n",
       "    .dataframe tbody tr th:only-of-type {\n",
       "        vertical-align: middle;\n",
       "    }\n",
       "\n",
       "    .dataframe tbody tr th {\n",
       "        vertical-align: top;\n",
       "    }\n",
       "\n",
       "    .dataframe thead th {\n",
       "        text-align: right;\n",
       "    }\n",
       "</style>\n",
       "<table border=\"1\" class=\"dataframe\">\n",
       "  <thead>\n",
       "    <tr style=\"text-align: right;\">\n",
       "      <th></th>\n",
       "      <th>Target</th>\n",
       "      <th>ID</th>\n",
       "      <th>Date</th>\n",
       "      <th>Query</th>\n",
       "      <th>Username</th>\n",
       "      <th>Tweet</th>\n",
       "      <th>filtered_tweet</th>\n",
       "    </tr>\n",
       "  </thead>\n",
       "  <tbody>\n",
       "    <tr>\n",
       "      <td>54</td>\n",
       "      <td>4</td>\n",
       "      <td>1983452282</td>\n",
       "      <td>Sun May 31 13:10:59 PDT 2009</td>\n",
       "      <td>NO_QUERY</td>\n",
       "      <td>jesssicababesss</td>\n",
       "      <td>@beckinelson</td>\n",
       "      <td></td>\n",
       "    </tr>\n",
       "    <tr>\n",
       "      <td>248</td>\n",
       "      <td>4</td>\n",
       "      <td>1882619809</td>\n",
       "      <td>Fri May 22 07:11:42 PDT 2009</td>\n",
       "      <td>NO_QUERY</td>\n",
       "      <td>Olivia_exists</td>\n",
       "      <td>@wearempires</td>\n",
       "      <td></td>\n",
       "    </tr>\n",
       "    <tr>\n",
       "      <td>276</td>\n",
       "      <td>4</td>\n",
       "      <td>2059914368</td>\n",
       "      <td>Sat Jun 06 17:53:34 PDT 2009</td>\n",
       "      <td>NO_QUERY</td>\n",
       "      <td>JaylaStarr</td>\n",
       "      <td>@eunice007</td>\n",
       "      <td></td>\n",
       "    </tr>\n",
       "    <tr>\n",
       "      <td>342</td>\n",
       "      <td>4</td>\n",
       "      <td>2052465846</td>\n",
       "      <td>Sat Jun 06 00:49:32 PDT 2009</td>\n",
       "      <td>NO_QUERY</td>\n",
       "      <td>lesley007</td>\n",
       "      <td>@tb78 I can!!</td>\n",
       "      <td></td>\n",
       "    </tr>\n",
       "    <tr>\n",
       "      <td>606</td>\n",
       "      <td>4</td>\n",
       "      <td>1979633500</td>\n",
       "      <td>Sun May 31 03:53:02 PDT 2009</td>\n",
       "      <td>NO_QUERY</td>\n",
       "      <td>roobies</td>\n",
       "      <td>@chanikin YOU CAN DO IT</td>\n",
       "      <td></td>\n",
       "    </tr>\n",
       "  </tbody>\n",
       "</table>\n",
       "</div>"
      ],
      "text/plain": [
       "     Target          ID                          Date     Query  \\\n",
       "54        4  1983452282  Sun May 31 13:10:59 PDT 2009  NO_QUERY   \n",
       "248       4  1882619809  Fri May 22 07:11:42 PDT 2009  NO_QUERY   \n",
       "276       4  2059914368  Sat Jun 06 17:53:34 PDT 2009  NO_QUERY   \n",
       "342       4  2052465846  Sat Jun 06 00:49:32 PDT 2009  NO_QUERY   \n",
       "606       4  1979633500  Sun May 31 03:53:02 PDT 2009  NO_QUERY   \n",
       "\n",
       "            Username                     Tweet filtered_tweet  \n",
       "54   jesssicababesss             @beckinelson                  \n",
       "248    Olivia_exists             @wearempires                  \n",
       "276       JaylaStarr               @eunice007                  \n",
       "342        lesley007            @tb78 I can!!                  \n",
       "606          roobies  @chanikin YOU CAN DO IT                  "
      ]
     },
     "execution_count": 18,
     "metadata": {},
     "output_type": "execute_result"
    }
   ],
   "source": [
    "null_index = all_data[all_data['filtered_tweet'] == ''].index\n",
    "all_data.loc[null_index].head()"
   ]
  },
  {
   "cell_type": "code",
   "execution_count": 19,
   "metadata": {},
   "outputs": [],
   "source": [
    "all_data = all_data.drop(index = null_index).reset_index(drop = True)"
   ]
  },
  {
   "cell_type": "code",
   "execution_count": 20,
   "metadata": {},
   "outputs": [],
   "source": [
    "target = all_data['Target'].apply(lambda x: 1 if x == 4 else 0)"
   ]
  },
  {
   "cell_type": "code",
   "execution_count": 21,
   "metadata": {},
   "outputs": [],
   "source": [
    "df = pd.DataFrame({'tweet': all_data['Tweet'], 'target': target})"
   ]
  },
  {
   "cell_type": "markdown",
   "metadata": {},
   "source": [
    "### `CountVectorizer()`\n",
    "* This implementation from scikit-learn transforms a list of documents into a vectorized feature space.\n",
    "* The input (in this case) is all the filtered tweets.\n",
    "* The output is a sparse matrix with a number of columns equal to the vocabulary of the tweets and rows equal to the number of tweets.\n",
    "* If `binary` is set to `True`, the vector will contain 1 values for words that appear instead of the number of occurences of that word, i.e. words are not counted in this case.\n",
    "* [Documentation](https://scikit-learn.org/stable/modules/generated/sklearn.feature_extraction.text.CountVectorizer.html)"
   ]
  },
  {
   "cell_type": "code",
   "execution_count": 22,
   "metadata": {},
   "outputs": [],
   "source": [
    "X = df['tweet']\n",
    "y = df['target'].to_numpy()"
   ]
  },
  {
   "cell_type": "code",
   "execution_count": 23,
   "metadata": {},
   "outputs": [],
   "source": [
    "X_train, X_test, y_train, y_test = train_test_split(X, y, test_size = 0.25)"
   ]
  },
  {
   "cell_type": "code",
   "execution_count": 24,
   "metadata": {},
   "outputs": [
    {
     "name": "stdout",
     "output_type": "stream",
     "text": [
      "Vocabulary count:  5518\n"
     ]
    }
   ],
   "source": [
    "vectorizer = CountVectorizer(binary = True)\n",
    "vectorizer.fit(X_train.apply(filter_tweet))\n",
    "\n",
    "X_train = vectorizer.transform(X_train.apply(filter_tweet))\n",
    "X_test = vectorizer.transform(X_test.apply(filter_tweet))\n",
    "print('Vocabulary count: ', len(vectorizer.get_feature_names()))"
   ]
  },
  {
   "cell_type": "markdown",
   "metadata": {},
   "source": [
    "`np.setdiff1d(ar1, ar2)` Return the unique values in ar1 that are not in ar2."
   ]
  },
  {
   "cell_type": "code",
   "execution_count": 25,
   "metadata": {},
   "outputs": [],
   "source": [
    "# Indexes of nonzero elements (positive tweets) in y_train\n",
    "pos_index = np.nonzero(y_train)[0]\n",
    "\n",
    "# Indexes of zero elements (negative tweets) in y_train\n",
    "neg_index = np.setdiff1d(np.arange(0, y_train.shape[0]), pos_index)"
   ]
  },
  {
   "cell_type": "code",
   "execution_count": 26,
   "metadata": {},
   "outputs": [],
   "source": [
    "Njc = np.array([np.asarray(np.sum(X_train[pos_index, :], axis = 0)).flatten(),\n",
    "                np.asarray(np.sum(X_train[neg_index, :], axis = 0)).flatten()])\n",
    "\n",
    "Nc = np.array([pos_index.shape[0], neg_index.shape[0]])\n",
    "\n",
    "n = y_train.shape[0]"
   ]
  },
  {
   "cell_type": "code",
   "execution_count": 11,
   "metadata": {},
   "outputs": [
    {
     "data": {
      "image/png": "[encoded data removed]",
      "text/plain": [
       "<Figure size 1296x720 with 2 Axes>"
      ]
     },
     "metadata": {
      "needs_background": "light"
     },
     "output_type": "display_data"
    }
   ],
   "source": [
    "fig, axs = plt.subplots(2, 1, figsize = (18, 10))\n",
    "\n",
    "ax1 = axs[0]\n",
    "ax1.bar(x = np.arange(0, Njc.shape[1]), height = Njc[0, :], ec = 'blue')\n",
    "ax1.set_title('Positive Tweets')\n",
    "ax1.set_ylim(0, 1.2*Njc.max())\n",
    "\n",
    "ax2 = axs[1]\n",
    "ax2.bar(np.arange(0, Njc.shape[1]), Njc[1, :], ec = 'blue')\n",
    "ax2.set_title('Negative Tweets')\n",
    "ax2.set_ylim(0, 1.2*Njc.max())\n",
    "\n",
    "plt.show()"
   ]
  },
  {
   "cell_type": "markdown",
   "metadata": {},
   "source": [
    "### 1. Maximum Likelihood Estimation\n",
    "Likelihood:\n",
    "$$ p(y|X, \\pi, \\theta) \\space \\propto \\space \\prod_{i=1}^{n} \\prod_{c=1}^{C} \\pi_{c}^{I_c(y_i)} \\cdot \\prod_{j=1}^{d}\\theta_{jc}^{I_c(y_i) \\cdot I_1(x_{ij})} \\cdot (1 - \\theta_{jc})^{I_c(y_i) \\cdot I_0(x_{ij})} $$\n",
    "\n",
    "Assuming the following:\n",
    "$$ N_c  =\\sum_{i=1}^{n} I_c(y_i) $$\n",
    "$$ N_{jc}  =\\sum_{i=1}^{n} I_c(y_i) \\cdot I_1(x_{ij}) $$\n",
    "\n",
    "Where:\n",
    "* n is the total number of data samples\n",
    "* $N_c$ is the number of samples from class c\n",
    "* $N_{jc}$ is the number of samples from class c that have the feature j (j word appears)\n",
    "\n",
    "The likelihood becomes:\n",
    "$$ p(y|D_{train}, \\pi, \\theta) \\space \\propto \\space \\prod_{c=1}^{C} \\pi_{c}^{N_c} \\cdot \\prod_{j=1}^{d}\\theta_{jc}^{N_{jc}} \\cdot (1 - \\theta_{jc})^{N_c - N_{jc}} $$\n",
    "The maximum likelihood estimation of the parameters is:\n",
    "$$ \\pi_c = \\frac{N_c}{n} $$\n",
    "\n",
    "$$ \\theta_{jc} = \\frac{N_{jc}}{N_c} $$\n",
    "\n"
   ]
  },
  {
   "cell_type": "markdown",
   "metadata": {},
   "source": [
    "Some words may not be available in one of the classes, and would consequently have a zero likelihood. This will cause any tweet containing such a word to have zero probability (-infinity in logspace). To avoid this problem, we add a constant number $\\alpha$ to all word counts, so that the minimum word count would be $\\alpha$ instead of zero. Then, we normalize to get likelihoods in the range [0, 1]. This technique is known as **Laplace smoothing**.\n",
    "\n",
    "$$ \\theta_{jc} = P(x_j = 1 \\mid y = c \\: ;\\, \\alpha) = \\frac{ N_{jc} + \\alpha}{N_{c} + \\alpha n_j} $$\n",
    "Where:\n",
    "* $x_j$ is feature j (For example, the occurrence of a certain word (j) in this study)\n",
    "* $\\alpha$ is a smoothing parameter\n",
    "* $n_j$ is the number of possible categories of feature $x_j$ (in this case 2, either the word appears or not)"
   ]
  },
  {
   "cell_type": "markdown",
   "metadata": {},
   "source": [
    "### Making Predictions:\n",
    "The probability of instance $x_i$ being from class c is:\n",
    "$$ p(y = c|x_i, D_{train}, \\pi, \\theta) \\space \\propto \\space \\pi_{c} \\cdot \\prod_{j=1}^{d}\\theta_{jc}^{I_1(x_{jc})} \\cdot (1 - \\theta_{jc})^{I_0(x_{jc})} $$\n",
    "\n",
    "To classify $x_i$, we calculate the probabilities of it being from every possible class and choose the class with maximum probability.\n",
    "\n",
    "The previous equation includes multiplying many probabilities (small numbers), which creates a risk of underflow. **Underflow** is when many small numbers are multiplied that the result will be too small and may be misinterpreted by computers. To avoid this scenario, we calculate probabilities in log space.\n",
    "\n",
    "In order to get results in the range [0, 1] (after working in logspace) we use the **softmax function**:\n",
    "$$ S(z_c) = \\frac{e^{z_c}}{\\sum_{i=1}^{C}e^{z_i}} $$\n",
    "Where:\n",
    "* $z_c$ is the **log** probability of $x_i$ being from class c\n",
    "* $C$ is all the possible classes\n",
    "\n",
    "$z$ in the previous equation would be the sum of small probabilities in the log space, which are large negative numbers. This will cause underflow to occur again when calculating the exponent of those negative numbers. To avoid this, we use the **log-sum-exp trick** explained below.\n",
    "\n",
    "#### Log-Sum-Exp Trick:\n",
    "Log-Sum-Exp function:\n",
    "$$ log\\sum^{n}_{i=1}e^{x_i} = a + log\\sum^{n}_{i=1}e^{x_i - a}  $$\n",
    "Where:\n",
    "* $a$ is $max(x_i)$\n",
    "    \n",
    "Ex:\n",
    "$$ log(e^{-150} + e^{-155}) = log(e^{-150}\\cdot (e^0 + e^{-5})) = log(e^{0} + e^{-5}) - 150 $$\n",
    "\n",
    "In the previous example, $e^{-5}$ and $e^{0}$ were computed instead of $e^{-155}$ and $e^{-150}$.\n",
    "\n",
    "By taking the log of the softmax function:\n",
    "\\begin{align*} log \\left(S(z_c) \\right) &= log (e^{z_c}) - log (\\sum_{i=1}^{C}e^{z_i})\\\\\n",
    "                                        &= z_c - log (\\sum_{i=1}^{C}e^{z_i})\\\\\n",
    "                                 S(z_c) &= exp \\left(z_c - log (\\sum_{i=1}^{C}e^{z_i}) \\right)           \n",
    "\\end{align*}\n",
    "\n",
    "Where $log(\\sum_{i=1}^{C}e^{z_i})$ is calculated using the log-sum-exp function."
   ]
  },
  {
   "cell_type": "markdown",
   "metadata": {},
   "source": [
    "### Implementation\n",
    "Note that the following implementation uses the same vectorizer used on the training data to tokenize the tweets. Therefore, words not available in the vocabulary of the vectorizer will be ignored. As the probabilities are multiplied, an ignored word is equivalent to a word with probability of 1 of being in either of the two classes."
   ]
  },
  {
   "cell_type": "code",
   "execution_count": 27,
   "metadata": {},
   "outputs": [],
   "source": [
    "alpha = 0.5\n",
    "nj = 2\n",
    "theta = (Njc + alpha)/(Nc.reshape(-1, 1) + alpha*nj)\n",
    "\n",
    "pi = Nc/n"
   ]
  },
  {
   "cell_type": "code",
   "execution_count": 28,
   "metadata": {},
   "outputs": [],
   "source": [
    "def logsumexp(x):\n",
    "    a = x.max()\n",
    "    return a + np.log(np.sum(np.exp(x - a)))\n",
    "\n",
    "def preprocess(tweet_series, vectorizer):\n",
    "    return vectorizer.transform([filter_tweet(tweet_series)])\n",
    "\n",
    "def predict(tweet, pi, theta, vectorizer):\n",
    "    x = preprocess(tweet, vectorizer)\n",
    "    L = np.log(pi)\n",
    "    app_word_index = x.nonzero()[1]\n",
    "    nonapp_word_index = np.setdiff1d(np.arange(0, x.shape[1]), app_word_index)\n",
    "    p1 = np.log(theta[0, app_word_index]).sum() + np.log(1 - theta[0, nonapp_word_index]).sum()\n",
    "    p0 = np.log(theta[1, app_word_index]).sum() + np.log(1 - theta[1, nonapp_word_index]).sum()\n",
    "    \n",
    "    L = L + np.array([p1, p0])\n",
    "    \n",
    "    p1 = np.exp(L[0] - logsumexp(L))\n",
    "    p0 = np.exp(L[1] - logsumexp(L))\n",
    "    \n",
    "    return {'Positive': p1, 'Negative': p0}\n",
    "    "
   ]
  },
  {
   "cell_type": "code",
   "execution_count": 30,
   "metadata": {},
   "outputs": [
    {
     "name": "stdout",
     "output_type": "stream",
     "text": [
      "MTV Movie Awards tonight!! In the meantime, I'm going to enjoy this warm, lazy Sunday I'm having \n"
     ]
    },
    {
     "data": {
      "text/plain": [
       "{'Positive': 0.9999298174903076, 'Negative': 7.01825096941702e-05}"
      ]
     },
     "execution_count": 30,
     "metadata": {},
     "output_type": "execute_result"
    }
   ],
   "source": [
    "pos_tweet = df.loc[df['target'] == 1, ['tweet']].sample()\n",
    "tweet = pos_tweet.iloc[0, 0]\n",
    "print(tweet)\n",
    "predict(tweet, pi, theta, vectorizer)"
   ]
  },
  {
   "cell_type": "code",
   "execution_count": 31,
   "metadata": {},
   "outputs": [
    {
     "name": "stdout",
     "output_type": "stream",
     "text": [
      "i always get really hungry this time of night \n"
     ]
    },
    {
     "data": {
      "text/plain": [
       "{'Positive': 0.05780078396131046, 'Negative': 0.9421992160386904}"
      ]
     },
     "execution_count": 31,
     "metadata": {},
     "output_type": "execute_result"
    }
   ],
   "source": [
    "neg_tweet = df.loc[df['target'] == 0, ['tweet']].sample()\n",
    "tweet = neg_tweet.iloc[0, 0]\n",
    "print(tweet)\n",
    "predict(tweet, pi, theta, vectorizer)"
   ]
  },
  {
   "cell_type": "markdown",
   "metadata": {},
   "source": [
    "#### Predictions using a `Classifier` object"
   ]
  },
  {
   "cell_type": "code",
   "execution_count": 32,
   "metadata": {},
   "outputs": [],
   "source": [
    "class CategoricalNBayesMLE:\n",
    "    def __init__ (self, alpha = 1):\n",
    "        self.params = ['alpha', 'logpi', 'logtheta']\n",
    "        self.alpha = alpha\n",
    "        \n",
    "    def fit (self, X, y):\n",
    "        alpha = self.alpha\n",
    "        \n",
    "        # Indexes of nonzero values (positive tweets) in y\n",
    "        pos_index = np.nonzero(y)[0]\n",
    "        \n",
    "        # Indexes of zero values (negative tweets) in y\n",
    "        neg_index = np.setdiff1d(np.arange(0, y.shape[0]), pos_index)\n",
    "        \n",
    "        Njc = np.array([np.asarray(np.sum(X[pos_index, :], axis = 0)).flatten(),\n",
    "        np.asarray(np.sum(X[neg_index, :], axis = 0)).flatten()])\n",
    "\n",
    "        Nc = np.array([pos_index.shape[0], neg_index.shape[0]]).reshape(-1, 1)\n",
    "\n",
    "        n = y.shape[0]\n",
    "        \n",
    "        self.logpi = np.log(Nc / n)\n",
    "        \n",
    "        # Theta is an array of three dimensions\n",
    "        # 1st dim: The possible categories of the target y (C=2)\n",
    "        # 2nd dim: The possible categories of each feature in X ({0, 1}, i.e. dim = 2)\n",
    "        # 3rd dim: The number of features in X (d)\n",
    "        theta = np.zeros((Nc.shape[0], Njc.shape[0], Njc.shape[1]))\n",
    "        \n",
    "        theta[:, 0, :] = (Njc + alpha)/(Nc + alpha*2)\n",
    "        theta[:, 1, :] = (Nc - Njc + alpha)/(Nc + alpha*2)\n",
    "        \n",
    "        self.logtheta = np.log(theta)\n",
    "     \n",
    "    # X should be a n*d vector of binary values\n",
    "    def predict (self, X):\n",
    "        \n",
    "        result = np.zeros(X.shape[0])\n",
    "        \n",
    "        logtheta = self.logtheta\n",
    "        \n",
    "        for i, x in enumerate(X):\n",
    "            \n",
    "            L = self.logpi\n",
    "            \n",
    "            # Index of words appearing in the tweet (1s)\n",
    "            app_word_index = x.nonzero()[1]\n",
    "\n",
    "            # Index of words not appearing in the tweet (0s)\n",
    "            nonapp_word_index = np.setdiff1d(np.arange(0, x.shape[0]), app_word_index)\n",
    "\n",
    "            # p1 is the sum of log likelihoods assuming the tweet is positive\n",
    "            p1 = logtheta[0, 0, app_word_index].sum() + logtheta[0, 1, nonapp_word_index].sum()\n",
    "\n",
    "            # p0 is the sum of log likelihoods assuming the tweet is negative\n",
    "            p0 = logtheta[1, 0, app_word_index].sum() + logtheta[1, 1, nonapp_word_index].sum()\n",
    "\n",
    "            # Adding the log prior (pi_c)\n",
    "            L = L + np.array([p1, p0]).reshape(-1, 1)\n",
    "\n",
    "            # Applying the softmax function with log-sum-exp trick\n",
    "            p1 = np.exp(L[0] - logsumexp(L))\n",
    "            p0 = np.exp(L[1] - logsumexp(L))\n",
    "\n",
    "            result[i] = 1 if p1>p0 else 0\n",
    "        \n",
    "        return result\n",
    "    \n",
    "    def save_params (self, fname):\n",
    "        params = dict ([(p , getattr (self , p )) for p in self . params ])\n",
    "        np . savez ( fname , ** params )\n",
    "        \n",
    "    def load_params ( self , fname ):\n",
    "        params = np . load ( fname )\n",
    "        for name in self . params :\n",
    "            setattr ( self , name , params [ name ])\n"
   ]
  },
  {
   "cell_type": "code",
   "execution_count": 33,
   "metadata": {},
   "outputs": [
    {
     "data": {
      "text/plain": [
       "0.7048192771084337"
      ]
     },
     "execution_count": 33,
     "metadata": {},
     "output_type": "execute_result"
    }
   ],
   "source": [
    "classifier = CategoricalNBayesMLE(alpha = 1)\n",
    "classifier.fit(X_train, y_train)\n",
    "y_hat = classifier.predict(X_test)\n",
    "(y_hat == y_test).sum() / y_hat.shape[0]"
   ]
  },
  {
   "cell_type": "markdown",
   "metadata": {},
   "source": [
    "Positive tweets"
   ]
  },
  {
   "cell_type": "code",
   "execution_count": 34,
   "metadata": {},
   "outputs": [
    {
     "name": "stdout",
     "output_type": "stream",
     "text": [
      "Thinking of what I should do in Vegas??? Any good ideas or places that are a most see!?? \n"
     ]
    },
    {
     "data": {
      "text/plain": [
       "array([1.])"
      ]
     },
     "execution_count": 34,
     "metadata": {},
     "output_type": "execute_result"
    }
   ],
   "source": [
    "x = df.loc[df['target'] == 1,'tweet'].sample().iloc[0]\n",
    "print(x)\n",
    "x = preprocess(x, vectorizer)\n",
    "classifier.predict(np.array([x]))"
   ]
  },
  {
   "cell_type": "markdown",
   "metadata": {},
   "source": [
    "Negative tweets\n"
   ]
  },
  {
   "cell_type": "code",
   "execution_count": 35,
   "metadata": {},
   "outputs": [
    {
     "name": "stdout",
     "output_type": "stream",
     "text": [
      "@FHTP What happened? That's horrible! \n"
     ]
    },
    {
     "data": {
      "text/plain": [
       "array([0.])"
      ]
     },
     "execution_count": 35,
     "metadata": {},
     "output_type": "execute_result"
    }
   ],
   "source": [
    "x = df.loc[df['target'] == 0,'tweet'].sample().iloc[0]\n",
    "print(x)\n",
    "x = preprocess(x, vectorizer)\n",
    "classifier.predict(np.array([x]))"
   ]
  },
  {
   "cell_type": "markdown",
   "metadata": {},
   "source": [
    "### 2. Bayesian Analysis\n",
    "We apply a Dirichlet prior on the parameter $\\pi$ and a Beta distribution on $\\theta$, to conform with the distributions in the likelihood. (In this study, the target, y, has only two possible classes so we could have chosen a Bernoulli and Beta distribution for the likelihood and prior, respectively)\n",
    "\n",
    "$\\pi$ prior:\n",
    "$$ p(\\pi_c) \\propto \\prod_{c=1}^{C} \\pi_c^{\\beta_c - 1} $$\n",
    "\n",
    "$\\theta$ prior:\n",
    "$$ p(\\theta_{jc}) \\propto \\theta_{jc}^{\\gamma_1 - 1} \\cdot (1-\\theta_{jc})^{\\gamma_2 - 1} $$\n",
    "**Note:** There are $d\\cdot C$ priors for X features, where $d$ is the number of features of X and $C$ the number of target classes. Meaning that each feature in each class has a Beta prior.\n",
    "\n",
    "Multiplying the prior with the likelihood we get:\n",
    "\n",
    "$$ p(\\pi, \\theta| X, y) = p(\\pi, \\theta| X) \\cdot p(y|X, \\pi, \\theta) $$\n",
    "\n",
    "$\\pi$ and $\\theta$ are independent:\n",
    "$$ p(\\pi, \\theta) = p(\\pi) \\cdot p(\\theta) $$\n",
    "\n",
    "$$ p(\\pi, \\theta| X, y) \\space \\propto \\space \\prod_{c=1}^{C} \\pi_{c}^{N_c + \\beta_c -1} \\cdot \\prod_{j=1}^{d}\\theta_{jc}^{N_{jc} + \\gamma_1 - 1} \\cdot (1 - \\theta_{jc})^{\\gamma_2 + N_c - N_{jc} - 1} $$\n",
    "\n",
    "The posterior is a Dirichlet with parameters:\n",
    "* For $\\pi$:\n",
    "$$ \\beta_c' = N_c + \\beta_c $$\n",
    "\n",
    "* For $\\theta$:\n",
    "\\begin{align*}\n",
    "\\gamma_1' &= \\gamma_1 + N_{jc}\\\\\n",
    "\\gamma_2' &= \\gamma_2 + N_{c} - N_{jc}\n",
    "\\end{align*}\n",
    "\n",
    "Using these parameters we get a distribution for each $\\pi$ and $\\theta$, from which we can choose the desired value (mean, mode, etc.)\n",
    "\n",
    "**Note:** Dirichlet distribution is a generalization of the Beta distribution for cases with more than two categories. Therefore, a Beta distribution is also a Dirichlet.\n",
    "\n",
    "[Dirichlet Distribution - Wikipedia](https://en.wikipedia.org/wiki/Dirichlet_distribution)\n",
    "\n",
    "[Beta Distribution - Wikipedia](https://en.wikipedia.org/wiki/Beta_distribution)"
   ]
  },
  {
   "cell_type": "markdown",
   "metadata": {},
   "source": [
    "### Implementation\n",
    "In the following implementation it is assumed that all X features have each the same Dirichlet parameters.\n"
   ]
  },
  {
   "cell_type": "markdown",
   "metadata": {},
   "source": [
    "#### class `CategoricalNBayesBayesian(beta, gamma)`:\n",
    "* `beta` is a list of Dirichlet distribution parameters for $\\pi$'s prior ($\\beta_i > 0$)\n",
    "* `gamma` is a list of Dirichlet distribution parameters for $\\theta$'s prior ($\\gamma_i > 0$)"
   ]
  },
  {
   "cell_type": "code",
   "execution_count": 36,
   "metadata": {},
   "outputs": [],
   "source": [
    "class CategoricalNBayesBayesian:\n",
    "    def __init__ (self, beta, gamma):\n",
    "        self.params = ['logpi', 'logtheta', 'beta', 'gamma']\n",
    "        self.beta = beta\n",
    "        self.gamma = gamma\n",
    "        \n",
    "    def fit (self, X, y):\n",
    "        \n",
    "        # Indexes of nonzero values (positive tweets) in y\n",
    "        pos_index = np.nonzero(y)[0]\n",
    "        \n",
    "        # Indexes of zero values (negative tweets) in y\n",
    "        neg_index = np.setdiff1d(np.arange(0, y.shape[0]), pos_index)\n",
    "        \n",
    "        Njc = np.array([np.asarray(np.sum(X[pos_index, :], axis = 0)).flatten(),\n",
    "        np.asarray(np.sum(X[neg_index, :], axis = 0)).flatten()])\n",
    "\n",
    "        Nc = np.array([pos_index.shape[0], neg_index.shape[0]]).reshape(-1, 1)\n",
    "\n",
    "        n = y.shape[0]\n",
    "        \n",
    "        beta = np.array(self.beta).reshape(-1, 1)\n",
    "        gamma = np.array(self.gamma).reshape(-1, 1)\n",
    "        \n",
    "        # Theta is an array of three dimensions\n",
    "        # 1st dim: The possible categories of the target y (C=2)\n",
    "        # 2nd dim: The possible categories of each feature in X ({0, 1}, i.e. dim = 2)\n",
    "        # 3rd dim: The number of features in X (d)\n",
    "        theta = np.zeros((Nc.shape[0], Njc.shape[0], Njc.shape[1]))\n",
    "        \n",
    "        self.logpi = np.log((Nc + beta) / (beta.sum() + n))\n",
    "        theta[:, 0, :] = (Njc + gamma[0]) / (gamma.sum() + Nc)\n",
    "        theta[:, 1, :] = (Nc - Njc + gamma[1]) / (gamma.sum() + Nc)\n",
    "        self.logtheta = np.log(theta)\n",
    "     \n",
    "    # X should be a nxd vector of binary values\n",
    "    def predict (self, X):\n",
    "        \n",
    "        result = np.zeros(X.shape[0])\n",
    "        \n",
    "        logtheta = self.logtheta\n",
    "        \n",
    "        for i, x in enumerate(X):\n",
    "            \n",
    "            L = self.logpi\n",
    "            \n",
    "            # Index of words appearing in the tweet (1s)\n",
    "            app_word_index = x.nonzero()[1]\n",
    "\n",
    "            # Index of words not appearing in the tweet (0s)\n",
    "            nonapp_word_index = np.setdiff1d(np.arange(0, x.shape[0]), app_word_index)\n",
    "\n",
    "            # p1 is the sum of log likelihoods assuming the tweet is positive\n",
    "            p1 = logtheta[0, 0, app_word_index].sum() + logtheta[0, 1, nonapp_word_index].sum()\n",
    "\n",
    "            # p0 is the sum of log likelihoods assuming the tweet is negative\n",
    "            p0 = logtheta[1, 0, app_word_index].sum() + logtheta[1, 1, nonapp_word_index].sum()\n",
    "\n",
    "            # Adding the log prior (pi_c)\n",
    "            L = L + np.array([p1, p0]).reshape(-1, 1)\n",
    "\n",
    "            # Applying the softmax function with log-sum-exp trick\n",
    "            p1 = np.exp(L[0] - logsumexp(L))\n",
    "            p0 = np.exp(L[1] - logsumexp(L))\n",
    "\n",
    "            result[i] = 1 if p1>p0 else 0\n",
    "        \n",
    "        return result\n",
    "    \n",
    "    def save_params (self, fname):\n",
    "        params = dict ([(p , getattr (self , p )) for p in self . params ])\n",
    "        np . savez ( fname , ** params )\n",
    "        \n",
    "    def load_params ( self , fname ):\n",
    "        params = np . load ( fname )\n",
    "        for name in self . params :\n",
    "            setattr ( self , name , params [ name ])\n"
   ]
  },
  {
   "cell_type": "code",
   "execution_count": 37,
   "metadata": {},
   "outputs": [
    {
     "data": {
      "text/plain": [
       "0.7048192771084337"
      ]
     },
     "execution_count": 37,
     "metadata": {},
     "output_type": "execute_result"
    }
   ],
   "source": [
    "bayes_classifier = CategoricalNBayesBayesian(beta = [1, 1], gamma = [1, 1])\n",
    "bayes_classifier.fit(X_train, y_train)\n",
    "y_hat = bayes_classifier.predict(X_test)\n",
    "(y_hat == y_test).sum() / y_test.shape[0]"
   ]
  },
  {
   "cell_type": "markdown",
   "metadata": {},
   "source": [
    "### Scikit-learn Implementation"
   ]
  },
  {
   "cell_type": "code",
   "execution_count": 38,
   "metadata": {},
   "outputs": [
    {
     "data": {
      "text/plain": [
       "0.7188755020080321"
      ]
     },
     "execution_count": 38,
     "metadata": {},
     "output_type": "execute_result"
    }
   ],
   "source": [
    "sk_classifier = naive_bayes.BernoulliNB(alpha = 1)\n",
    "sk_classifier.fit(X_train, y_train)\n",
    "y_hat = sk_classifier.predict(X_test)\n",
    "(y_hat == y_test).sum() / y_test.shape[0]"
   ]
  },
  {
   "cell_type": "markdown",
   "metadata": {},
   "source": [
    "### To do:\n",
    "* Try applying it on a case of multiple categories (not binary)\n",
    "* Try applying a Gaussian Naive Bayes\n",
    "* Try addressing the problem of words not available in training data"
   ]
  }
 ],
 "metadata": {
  "kernelspec": {
   "display_name": "Python 3",
   "language": "python",
   "name": "python3"
  },
  "language_info": {
   "codemirror_mode": {
    "name": "ipython",
    "version": 3
   },
   "file_extension": ".py",
   "mimetype": "text/x-python",
   "name": "python",
   "nbconvert_exporter": "python",
   "pygments_lexer": "ipython3",
   "version": "3.7.4"
  }
 },
 "nbformat": 4,
 "nbformat_minor": 2
}
