{
 "cells": [
  {
   "cell_type": "markdown",
   "metadata": {},
   "source": [
    "# Taylor Series\n",
    "This notebook contains a visualization of Taylor series representation of functions.\n",
    "\n",
    "Taylor series is used to represent a function around a certain point using an infinite polynomial. This is helpful when we need the value of a complex function at a certain point. By increasing the degree of the polynomial (Taylor series), we can obtain approximations of the real function values with lower error.\n",
    "\n",
    "Taylor series equation:\n",
    "\n",
    "$$ f(x) = \\sum_{n=0}^{\\infty}\\frac{f^{n}(a)(x-a)^{n}}{n!} $$\n",
    "\n",
    "$f^{n}(a)$ is the value of the $n^{th}$ derivative of $f(x)$ at point $a$.\n",
    "\n",
    "[Check my Github repository for similar introductory notebooks](https://github.com/YZouzou/ML-Topics-Intro)\n"
   ]
  },
  {
   "cell_type": "code",
   "execution_count": 1,
   "metadata": {},
   "outputs": [],
   "source": [
    "import numpy as np\n",
    "import matplotlib.pyplot as plt\n",
    "from ipywidgets import interact\n",
    "import ipywidgets as widgets\n",
    "plt.style.use('ggplot')"
   ]
  },
  {
   "cell_type": "code",
   "execution_count": 4,
   "metadata": {},
   "outputs": [
    {
     "data": {
      "application/vnd.jupyter.widget-view+json": {
       "model_id": "2f3f996c92254c2586422a46eff15b5c",
       "version_major": 2,
       "version_minor": 0
      },
      "text/plain": [
       "interactive(children=(IntSlider(value=1, description='degree', max=17, min=1, step=2), Output()), _dom_classes…"
      ]
     },
     "metadata": {},
     "output_type": "display_data"
    }
   ],
   "source": [
    "@interact(degree = widgets.IntSlider(min=1, max=17, step=2, value=1))\n",
    "def plot_graph(degree):\n",
    "    x = np.linspace(-3*np.pi, 3*np.pi, 200)\n",
    "    y = np.zeros(x.shape[0])\n",
    "\n",
    "    plt.figure(figsize = (10, 8))\n",
    "    plt.suptitle('Sin(x) Approximation using Taylor Series', fontsize = 14)\n",
    "    for i in range(1, degree + 1, 2):\n",
    "        n = (i - 1)/2\n",
    "        y = y + ((-1)**n * (x)**(2*n+1)) / np.math.factorial(2*n+1)\n",
    "        \n",
    "    plt.plot(x, y, 'red', label = 'Approximation')\n",
    "    plt.plot(x, np.sin(x), 'black', alpha = 0.3, label = 'Real Function')\n",
    "    plt.ylim(-1.2, 1.2)\n",
    "    plt.legend()\n",
    "    plt.title('Taylor series degree: {}'.format(degree), fontsize = 12)\n",
    "    plt.show()"
   ]
  },
  {
   "cell_type": "markdown",
   "metadata": {},
   "source": [
    "### Speed of Sound\n",
    "The speed of sound in air for a certain temperature is given by this equation:\n",
    "\n",
    "\\begin{equation}\n",
    "V_{air} = 20.05\\sqrt{T_{c} + 273.15}\n",
    "\\end{equation}\n",
    "\n",
    "Using Taylor series, it can be approximated as following:"
   ]
  },
  {
   "cell_type": "code",
   "execution_count": 5,
   "metadata": {},
   "outputs": [
    {
     "name": "stdout",
     "output_type": "stream",
     "text": [
      "f(0) = 331.371\n",
      "f'(0) = 0.607\n",
      "f''(0) = -0.001\n"
     ]
    }
   ],
   "source": [
    "f_0 = 20.05*(273.15)**0.5\n",
    "f_1 = 0.5*20.05*(273.15)**(-0.5)\n",
    "f_2 = -0.5 * 0.5 * 20.05 * (273.15)**-1.5\n",
    "\n",
    "print(\"f(0) = {:.3f}\".format(f_0))\n",
    "print(\"f\\'(0) = {:.3f}\".format(f_1))\n",
    "print(\"f\\'\\'(0) = {:.3f}\".format(f_2))"
   ]
  },
  {
   "cell_type": "markdown",
   "metadata": {},
   "source": [
    "As we can see, the terms are approaching zero for higher degrees.\n",
    "Sound speed approximation using the first two terms of a Taylor series:\n",
    "\n",
    "\\begin{equation}\n",
    "V_{air} = 331.371 + 0.607T_{c}\n",
    "\\end{equation}"
   ]
  },
  {
   "cell_type": "code",
   "execution_count": 6,
   "metadata": {},
   "outputs": [
    {
     "data": {
      "application/vnd.jupyter.widget-view+json": {
       "model_id": "d3f420734f0a408882b449993311a1a6",
       "version_major": 2,
       "version_minor": 0
      },
      "text/plain": [
       "interactive(children=(IntSlider(value=260, description='Tmax', max=260, min=50, step=10), Output()), _dom_clas…"
      ]
     },
     "metadata": {},
     "output_type": "display_data"
    }
   ],
   "source": [
    "tc = np.linspace(-250, 250, 100)\n",
    "v_approx = lambda x: 331.371 + 0.607 * x\n",
    "v_real = lambda x: 20.05 * np.sqrt(x + 273.15)\n",
    "\n",
    "@interact(Tmax = widgets.IntSlider(min=50, max=260, step=10, value=260))\n",
    "def plot_figure(Tmax):\n",
    "    fig = plt.figure(figsize = (8, 6), dpi = 95)\n",
    "    fig.suptitle(\"Sound Speed Approximation Using Taylor Series\", fontsize = 14)\n",
    "    plt.plot(tc, v_approx(tc), 'red', label = 'Approximation')\n",
    "    plt.plot(tc, v_real(tc), 'black', alpha = 0.3, label = 'Real Function')\n",
    "    plt.legend(loc = 2)\n",
    "    plt.xlim(-Tmax, Tmax)\n",
    "    error = 100 * np.abs(v_approx(Tmax) - v_real(Tmax)) / v_real(Tmax)\n",
    "    txt1 = \"T = {} C\\u00B0 \\u2192 \".format(Tmax)\n",
    "    txt2 = \"Error = {:.2f}%\".format(error)\n",
    "    plt.ylim(v_approx(-Tmax), v_approx(Tmax))\n",
    "    plt.title(txt1 + txt2, fontsize = 12)\n",
    "    plt.xlabel('Temperature (C\\u00B0)')\n",
    "    plt.ylabel('Speed of Sound (m/s)')\n",
    "    plt.show()"
   ]
  },
  {
   "cell_type": "markdown",
   "metadata": {},
   "source": [
    "From the previous interactive graph, we can see that for normal air temperatures (-50 - +50 degrees), the error is negligible."
   ]
  },
  {
   "cell_type": "code",
   "execution_count": null,
   "metadata": {},
   "outputs": [],
   "source": []
  }
 ],
 "metadata": {
  "kernelspec": {
   "display_name": "Python 3",
   "language": "python",
   "name": "python3"
  },
  "language_info": {
   "codemirror_mode": {
    "name": "ipython",
    "version": 3
   },
   "file_extension": ".py",
   "mimetype": "text/x-python",
   "name": "python",
   "nbconvert_exporter": "python",
   "pygments_lexer": "ipython3",
   "version": "3.7.4"
  }
 },
 "nbformat": 4,
 "nbformat_minor": 2
}
