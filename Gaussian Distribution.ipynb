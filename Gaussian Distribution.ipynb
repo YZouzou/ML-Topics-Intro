{
 "cells": [
  {
   "cell_type": "markdown",
   "metadata": {},
   "source": [
    "# Gaussian Distribution\n",
    "This notebook contains functions that plot 1D and 2D Gaussian distributions. The goal is to understand how a probability density function (PDF) is created, and to visualize Gaussians and see how they change in space given different parameters.\n",
    "\n",
    "[Check my Github repository for similar introductory notebooks](https://github.com/YZouzou/ML-Topics-Intro)"
   ]
  },
  {
   "cell_type": "code",
   "execution_count": 1,
   "metadata": {},
   "outputs": [],
   "source": [
    "import matplotlib.pyplot as plt\n",
    "import numpy as np\n",
    "import pandas as pd\n",
    "from ipywidgets import interact\n",
    "import ipywidgets as widgets\n",
    "plt.style.use('bmh')\n",
    "# %matplotlib notebook"
   ]
  },
  {
   "cell_type": "markdown",
   "metadata": {},
   "source": [
    "### Function\n",
    "### `Gaussian_1d`:\n",
    "This function takes in a value `x`, a mean `mu`, and a standard deviation `sig`. The function returns the value corresponding to `x` in a univariate Gaussian PDF with a mean equal to `mu` and a standard deviation equal to `sig`."
   ]
  },
  {
   "cell_type": "code",
   "execution_count": 2,
   "metadata": {},
   "outputs": [],
   "source": [
    "def Gaussian_1d(x, mu, sig):\n",
    "    return (2 * np.pi * sig**2)**(-0.5) * np.exp(-0.5 * ((x - mu) / sig)**2)"
   ]
  },
  {
   "cell_type": "code",
   "execution_count": 20,
   "metadata": {},
   "outputs": [
    {
     "data": {
      "application/vnd.jupyter.widget-view+json": {
       "model_id": "1416cabdc5a44205aa822fc5fa61591f",
       "version_major": 2,
       "version_minor": 0
      },
      "text/plain": [
       "interactive(children=(IntSlider(value=0, description='μ (Mean)', max=3, min=-3), FloatSlider(value=0.7, descri…"
      ]
     },
     "metadata": {},
     "output_type": "display_data"
    }
   ],
   "source": [
    "@interact(mu = widgets.IntSlider(min=-3, max=3, step=1, value=0, description = '\\u03BC (Mean)'),\n",
    "         sig = widgets.FloatSlider(min=0.3, max=1.2, step=0.1, value=0.7, description = '\\u03C3 (Std)'))\n",
    "def plot_1D_gaussian(mu, sig):\n",
    "    x = np.linspace(-5, 5, 1000)\n",
    "    y = Gaussian_1d(x, mu, sig)\n",
    "\n",
    "    plt.figure(figsize = (8, 6))\n",
    "    plt.plot(x, y)\n",
    "    plt.xlim(-5, 5)\n",
    "    plt.ylim(0, 1.4)\n",
    "    plt.title('Univariate Gaussian Distribution')\n",
    "    plt.show()"
   ]
  },
  {
   "cell_type": "markdown",
   "metadata": {},
   "source": [
    "### Function\n",
    "### `Gaussian_2d`:\n",
    "This function takes in a 2x1 vector `X`, a 2x1 mean vector `Mu`, and a 2x2 covariance matrix `Sig`. The function returns the value corresponding to vector `X` in a bivariate Gaussian PDF with a mean vector equal to `Mu` and a covariance matrix equal to `Sig`."
   ]
  },
  {
   "cell_type": "code",
   "execution_count": 30,
   "metadata": {},
   "outputs": [],
   "source": [
    "def Gaussian_2d(X, Mu, Sig):\n",
    "    return np.linalg.det(2 * np.pi * Sig)**(-0.5) * np.exp(-0.5 * (X - Mu).T @ np.linalg.inv(Sig) @ (X - Mu))"
   ]
  },
  {
   "cell_type": "code",
   "execution_count": 33,
   "metadata": {},
   "outputs": [],
   "source": [
    "# Number of points (Smoothness of graph)\n",
    "n = 100\n",
    "\n",
    "X = np.linspace(-5, 5, n)\n",
    "Y = np.linspace(-5, 5, n)\n",
    "\n",
    "X, Y = np.meshgrid(X, Y)\n",
    "\n",
    "# Mean vector\n",
    "Mu = np.array([0, 0]).reshape(-1, 1)\n",
    "\n",
    "# Covariance matrix\n",
    "Sig = np.array([\n",
    "    [3, 2],\n",
    "    [2, 3]])"
   ]
  },
  {
   "cell_type": "markdown",
   "metadata": {},
   "source": [
    "Timing different methods for calculating Z matrix to create the plot"
   ]
  },
  {
   "cell_type": "code",
   "execution_count": 52,
   "metadata": {},
   "outputs": [
    {
     "data": {
      "text/plain": [
       "array([[4.79581829e-04, 5.28934034e-04, 5.79804564e-04, ...,\n",
       "        2.68124826e-12, 1.63299326e-12, 9.88491825e-13],\n",
       "       [5.28934034e-04, 5.85750616e-04, 6.44711358e-04, ...,\n",
       "        4.39342724e-12, 2.68672522e-12, 1.63299326e-12],\n",
       "       [5.79804564e-04, 6.44711358e-04, 7.12508974e-04, ...,\n",
       "        7.15502532e-12, 4.39342724e-12, 2.68124826e-12],\n",
       "       ...,\n",
       "       [2.68124826e-12, 4.39342724e-12, 7.15502532e-12, ...,\n",
       "        7.12508974e-04, 6.44711358e-04, 5.79804564e-04],\n",
       "       [1.63299326e-12, 2.68672522e-12, 4.39342724e-12, ...,\n",
       "        6.44711358e-04, 5.85750616e-04, 5.28934034e-04],\n",
       "       [9.88491825e-13, 1.63299326e-12, 2.68124826e-12, ...,\n",
       "        5.79804564e-04, 5.28934034e-04, 4.79581829e-04]])"
      ]
     },
     "metadata": {},
     "output_type": "display_data"
    },
    {
     "name": "stdout",
     "output_type": "stream",
     "text": [
      "Wall time: 305 ms\n"
     ]
    }
   ],
   "source": [
    "%%time\n",
    "# Creating an array whereby the first row contains X values and the second row Y values\n",
    "# Z values are calculated by iterating through every single (x, y) vector\n",
    "\n",
    "inp = np.array([X.flatten(), Y.flatten()])\n",
    "\n",
    "Z1 = np.zeros(X.shape).flatten()\n",
    "for i, x in enumerate(inp.T):\n",
    "    Z1[i] = Gaussian_2d(x.reshape(-1, 1), Mu, Sig)\n",
    "\n",
    "Z1 = Z1.reshape(X.shape)\n",
    "display(Z1)"
   ]
  },
  {
   "cell_type": "code",
   "execution_count": 53,
   "metadata": {},
   "outputs": [
    {
     "data": {
      "text/plain": [
       "array([[4.79581829e-04, 5.28934034e-04, 5.79804564e-04, ...,\n",
       "        2.68124826e-12, 1.63299326e-12, 9.88491825e-13],\n",
       "       [5.28934034e-04, 5.85750616e-04, 6.44711358e-04, ...,\n",
       "        4.39342724e-12, 2.68672522e-12, 1.63299326e-12],\n",
       "       [5.79804564e-04, 6.44711358e-04, 7.12508974e-04, ...,\n",
       "        7.15502532e-12, 4.39342724e-12, 2.68124826e-12],\n",
       "       ...,\n",
       "       [2.68124826e-12, 4.39342724e-12, 7.15502532e-12, ...,\n",
       "        7.12508974e-04, 6.44711358e-04, 5.79804564e-04],\n",
       "       [1.63299326e-12, 2.68672522e-12, 4.39342724e-12, ...,\n",
       "        6.44711358e-04, 5.85750616e-04, 5.28934034e-04],\n",
       "       [9.88491825e-13, 1.63299326e-12, 2.68124826e-12, ...,\n",
       "        5.79804564e-04, 5.28934034e-04, 4.79581829e-04]])"
      ]
     },
     "metadata": {},
     "output_type": "display_data"
    },
    {
     "name": "stdout",
     "output_type": "stream",
     "text": [
      "Wall time: 14 ms\n"
     ]
    }
   ],
   "source": [
    "%%time\n",
    "# Create an array of n rows, in each row there is a matrix of 2 rows and n columns\n",
    "# The Gaussian function will iterate through every matrix of these\n",
    "\n",
    "mat = np.zeros((n, 2, n))\n",
    "\n",
    "# Assign X values to the first row of every matrix\n",
    "mat[:, 0, :] = X\n",
    "# Assign Y values to the second row of every matrix\n",
    "mat[:, 1, :] = Y\n",
    "\n",
    "Z2 = np.zeros((n, n))\n",
    "\n",
    "for i in range(n):\n",
    "    # The values of the bivariate gaussian distribution are in the diagonal of the resulting matrix\n",
    "    Z2[i, :] = np.diag(Gaussian_2d(mat[i, :, :], Mu, Sig))\n",
    "display(Z2)"
   ]
  },
  {
   "cell_type": "code",
   "execution_count": 54,
   "metadata": {},
   "outputs": [
    {
     "data": {
      "text/plain": [
       "array([[4.79581829e-04, 5.28934034e-04, 5.79804564e-04, ...,\n",
       "        2.68124826e-12, 1.63299326e-12, 9.88491825e-13],\n",
       "       [5.28934034e-04, 5.85750616e-04, 6.44711358e-04, ...,\n",
       "        4.39342724e-12, 2.68672522e-12, 1.63299326e-12],\n",
       "       [5.79804564e-04, 6.44711358e-04, 7.12508974e-04, ...,\n",
       "        7.15502532e-12, 4.39342724e-12, 2.68124826e-12],\n",
       "       ...,\n",
       "       [2.68124826e-12, 4.39342724e-12, 7.15502532e-12, ...,\n",
       "        7.12508974e-04, 6.44711358e-04, 5.79804564e-04],\n",
       "       [1.63299326e-12, 2.68672522e-12, 4.39342724e-12, ...,\n",
       "        6.44711358e-04, 5.85750616e-04, 5.28934034e-04],\n",
       "       [9.88491825e-13, 1.63299326e-12, 2.68124826e-12, ...,\n",
       "        5.79804564e-04, 5.28934034e-04, 4.79581829e-04]])"
      ]
     },
     "metadata": {},
     "output_type": "display_data"
    },
    {
     "name": "stdout",
     "output_type": "stream",
     "text": [
      "Wall time: 4.99 ms\n"
     ]
    }
   ],
   "source": [
    "%%time\n",
    "# Using Scipy function\n",
    "from scipy.stats import multivariate_normal\n",
    "\n",
    "pos = np.zeros((X.shape[0], X.shape[0], 2))\n",
    "pos[:,:,0]=X\n",
    "pos[:,:,1]=Y\n",
    "\n",
    "rv = multivariate_normal(Mu.flatten(), Sig)\n",
    "\n",
    "Z_scipy = rv.pdf(pos)\n",
    "display(Z_scipy)"
   ]
  },
  {
   "cell_type": "markdown",
   "metadata": {},
   "source": [
    "Checking that Z2 is equal to Z_scipy"
   ]
  },
  {
   "cell_type": "code",
   "execution_count": 57,
   "metadata": {},
   "outputs": [
    {
     "data": {
      "text/plain": [
       "0"
      ]
     },
     "execution_count": 57,
     "metadata": {},
     "output_type": "execute_result"
    }
   ],
   "source": [
    "(np.abs(Z2 - Z_scipy) > 1e-16).sum()"
   ]
  },
  {
   "cell_type": "markdown",
   "metadata": {},
   "source": [
    "### Visualizing bivariate Gaussians\n",
    "Note that an error may occur if the values result in a non-positive semi-definite covariance matrix."
   ]
  },
  {
   "cell_type": "code",
   "execution_count": 125,
   "metadata": {
    "scrolled": false
   },
   "outputs": [
    {
     "data": {
      "application/vnd.jupyter.widget-view+json": {
       "model_id": "f424f9a33ad04107a4e1a2dbff4263f6",
       "version_major": 2,
       "version_minor": 0
      },
      "text/plain": [
       "interactive(children=(IntSlider(value=0, description='mu1', max=2, min=-2), IntSlider(value=0, description='mu…"
      ]
     },
     "metadata": {},
     "output_type": "display_data"
    }
   ],
   "source": [
    "@interact(\\\n",
    "          mu1 = (-2, 2, 1),\n",
    "          mu2 = (-2, 2, 1),\n",
    "          sig11 = widgets.FloatSlider(min = 0.4, max = 2.4, step = 0.2, value = 1),\n",
    "          sig22 = widgets.FloatSlider(min = 0.4, max = 2.4, step = 0.2, value = 1),\n",
    "          sig12 = widgets.FloatSlider(min = -1.2, max = 1.2, step = 0.2, value = 0)\n",
    ")\n",
    "def plot_2D_gaussian(mu1, mu2, sig11, sig22, sig12):\n",
    "    Mu = np.array([mu1, mu2])\n",
    "    Sig = np.array([\n",
    "        [sig11, sig12],\n",
    "        [sig12, sig22]\n",
    "    ])\n",
    "    \n",
    "    rv = multivariate_normal(Mu, Sig)\n",
    "    Z_scipy = rv.pdf(pos)\n",
    "\n",
    "    fig = plt.figure(figsize = (10, 10))\n",
    "\n",
    "    ax1 = fig.add_subplot(2, 2, 1, projection = '3d')\n",
    "    ax2 = fig.add_subplot(2, 2, 2, projection = '3d')\n",
    "    ax3 = fig.add_subplot(2, 2, 3, projection = '3d')\n",
    "    ax4 = fig.add_subplot(2, 2, 4, projection = '3d')\n",
    "    axes = [ax1, ax2, ax3, ax4]\n",
    "\n",
    "    azims = [45, 270, 0]\n",
    "    elevs = [20, 0, 0]\n",
    "    titles = []\n",
    "\n",
    "    for i, ax in enumerate(axes[:3]):\n",
    "        ax.plot_surface(X, Y, Z_scipy, cmap=\"gray\")\n",
    "        ax.set_xlabel('X')\n",
    "        ax.set_ylabel('Y')\n",
    "        ax.azim = azims[i]\n",
    "        ax.elev = elevs[i]\n",
    "        ax.set_zlim(0, 0.3)\n",
    "    \n",
    "    ax4.contour(X, Y, Z_scipy, cmap=\"gray\")\n",
    "    ax4.set_xlabel('X')\n",
    "    ax4.set_ylabel('Y')\n",
    "    ax4.azim = 270\n",
    "    ax4.elev = 90\n",
    "    ax4.dist = 7\n",
    "\n",
    "\n",
    "    plt.show()"
   ]
  },
  {
   "cell_type": "code",
   "execution_count": null,
   "metadata": {},
   "outputs": [],
   "source": []
  }
 ],
 "metadata": {
  "kernelspec": {
   "display_name": "Python 3",
   "language": "python",
   "name": "python3"
  },
  "language_info": {
   "codemirror_mode": {
    "name": "ipython",
    "version": 3
   },
   "file_extension": ".py",
   "mimetype": "text/x-python",
   "name": "python",
   "nbconvert_exporter": "python",
   "pygments_lexer": "ipython3",
   "version": "3.7.4"
  }
 },
 "nbformat": 4,
 "nbformat_minor": 2
}
