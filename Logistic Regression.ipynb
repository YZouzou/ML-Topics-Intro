{
 "cells": [
  {
   "cell_type": "markdown",
   "metadata": {},
   "source": [
    "## Logistic Regression\n",
    "This notebook contains an implementation of binary logistic regression on the famous Iris dataset. Logistic regression using gradient descent and Newton's method is implemented. An L2 regularizer is added too.\n",
    "\n",
    "[Check my Github repository for similar introductory notebooks](https://github.com/YZouzou/ML-Topics-Intro)\n",
    "\n",
    "[Check Prof. Nando de Freitas slides here](https://www.cs.ubc.ca/~nando/340-2012/lectures/l21.pdf)\n",
    "\n",
    "Logistic regression is a classification that uses the **logistic function** to return class probabilities between 0 and 1.The output of the logistic regression model represent the probability of the given input to be of a certain class.\n",
    "\n",
    "Sigmoid or logistic function:\n",
    "$$ sigm(x) = \\frac{1}{1 + e^{-x}} = \\frac{e^{x}}{1 + e^{x}} $$\n",
    "This function returns a value between 0 and 1 for any input x.\n",
    "\n",
    "Similar to linear regression, an input feature vector ($x$) is multiplied by a parameter vector ($\\theta$) to predict the target. However, in logistic regression, this result is put in the sigmoid function to get the final prediction. Using the sigmoid function ensures that the prediction can be perceived as a probability, without the need to introduce complicated normalizers and constraints (ex: $ \\sum \\theta_j = 1$).\n",
    "\n",
    "Binary logistic regression likelihood:\n",
    "$$ \\prod_{i=1}^{n} \\pi_i^{y_i} \\cdot (1 - \\pi_i)^{1-y_i} $$\n",
    "Where\n",
    "* $\\pi_i$ is the sigmoid of the prediction, i.e. $\\frac{1}{1+e^{-x_i^T\\theta}}$\n",
    "* $y_i$ is the target value (1 or 0 in the binary case)\n",
    "\n",
    "Maximizing the likelihood would be equivalent to minimizing the negative log of the likelihood. This optimization problem cannot be solved directly, as is the case with linear regression, and therefore gradient descent method is used.\n",
    "\n",
    "Gradient of the negative log likelihood:\n",
    "$$ g = \\sum_{i=1}^n x_i^T (\\pi_i - y_i) = X^T (\\pi - y) $$\n",
    "\n",
    "Where:\n",
    "* $x_i$ of size ($d \\cdot 1$)\n",
    "* $X$ of size ($n \\cdot d$)\n",
    "* $y, \\pi$ of size ($n \\cdot 1$)\n",
    "\n",
    "Hessian matrix of the negative log likelihood:\n",
    "$$ H = \\sum_{i=1}^n \\pi_i (1 - \\pi_i) x_i x_i^T = X^T S X $$\n",
    "\n",
    "Where\n",
    "* $S$ is $diag \\left( \\pi_1 (1 - \\pi_1), \\pi_2 (1 - \\pi_2), ... \\pi_n (1 - \\pi_n) \\right) $ of size ($n \\cdot n$)\n",
    "\n",
    "Using the gradient descent function with a Hessian matrix (Newton's method) we get:\n",
    "\n",
    "\\begin{align*}\n",
    "\\theta_{k+1} &= \\theta_k - H_k^{-1} g_k\\\\\n",
    "             &= \\left( X^T S_k X \\right)^{-1} X^T \\left[ S_k X \\theta_k + y - \\pi_k \\right]\n",
    "\\end{align*}\n",
    "\n",
    "This optimization algorithm is known as **Iteratively Reweighted Least Squares (IRLS)**."
   ]
  },
  {
   "cell_type": "code",
   "execution_count": 69,
   "metadata": {},
   "outputs": [],
   "source": [
    "import numpy as np\n",
    "import pandas as pd\n",
    "import matplotlib as mpl\n",
    "import matplotlib.pyplot as plt\n",
    "import scipy as sp\n",
    "\n",
    "from sklearn.linear_model import LogisticRegression\n",
    "from sklearn.preprocessing import StandardScaler\n",
    "from sklearn.model_selection import train_test_split"
   ]
  },
  {
   "cell_type": "code",
   "execution_count": 2,
   "metadata": {},
   "outputs": [],
   "source": [
    "def sigmoid(x):\n",
    "    return 1 / (1 + np.exp(-x))"
   ]
  },
  {
   "cell_type": "code",
   "execution_count": 3,
   "metadata": {
    "scrolled": false
   },
   "outputs": [
    {
     "data": {
      "image/png": "[encoded data removed]",
      "text/plain": [
       "<Figure size 576x432 with 1 Axes>"
      ]
     },
     "metadata": {
      "needs_background": "light"
     },
     "output_type": "display_data"
    }
   ],
   "source": [
    "x = np.linspace(-8, 8, 100)\n",
    "y = sigmoid(x)\n",
    "\n",
    "plt.figure(figsize = (8, 6))\n",
    "plt.plot(x, y)\n",
    "plt.title('Sigmoid Function')\n",
    "plt.show()"
   ]
  },
  {
   "cell_type": "markdown",
   "metadata": {},
   "source": [
    "### Iris dataset"
   ]
  },
  {
   "cell_type": "code",
   "execution_count": 4,
   "metadata": {},
   "outputs": [],
   "source": [
    "header = ['sl', 'sw', 'pl', 'pw', 'class']\n",
    "df = pd.read_csv('https://raw.githubusercontent.com/jbrownlee/Datasets/master/iris.csv', header = None)\n",
    "df.columns = header"
   ]
  },
  {
   "cell_type": "code",
   "execution_count": 5,
   "metadata": {},
   "outputs": [
    {
     "data": {
      "text/html": [
       "<div>\n",
       "<style scoped>\n",
       "    .dataframe tbody tr th:only-of-type {\n",
       "        vertical-align: middle;\n",
       "    }\n",
       "\n",
       "    .dataframe tbody tr th {\n",
       "        vertical-align: top;\n",
       "    }\n",
       "\n",
       "    .dataframe thead th {\n",
       "        text-align: right;\n",
       "    }\n",
       "</style>\n",
       "<table border=\"1\" class=\"dataframe\">\n",
       "  <thead>\n",
       "    <tr style=\"text-align: right;\">\n",
       "      <th></th>\n",
       "      <th>sl</th>\n",
       "      <th>sw</th>\n",
       "      <th>pl</th>\n",
       "      <th>pw</th>\n",
       "      <th>class</th>\n",
       "    </tr>\n",
       "  </thead>\n",
       "  <tbody>\n",
       "    <tr>\n",
       "      <td>0</td>\n",
       "      <td>5.1</td>\n",
       "      <td>3.5</td>\n",
       "      <td>1.4</td>\n",
       "      <td>0.2</td>\n",
       "      <td>Iris-setosa</td>\n",
       "    </tr>\n",
       "    <tr>\n",
       "      <td>1</td>\n",
       "      <td>4.9</td>\n",
       "      <td>3.0</td>\n",
       "      <td>1.4</td>\n",
       "      <td>0.2</td>\n",
       "      <td>Iris-setosa</td>\n",
       "    </tr>\n",
       "    <tr>\n",
       "      <td>2</td>\n",
       "      <td>4.7</td>\n",
       "      <td>3.2</td>\n",
       "      <td>1.3</td>\n",
       "      <td>0.2</td>\n",
       "      <td>Iris-setosa</td>\n",
       "    </tr>\n",
       "    <tr>\n",
       "      <td>3</td>\n",
       "      <td>4.6</td>\n",
       "      <td>3.1</td>\n",
       "      <td>1.5</td>\n",
       "      <td>0.2</td>\n",
       "      <td>Iris-setosa</td>\n",
       "    </tr>\n",
       "    <tr>\n",
       "      <td>4</td>\n",
       "      <td>5.0</td>\n",
       "      <td>3.6</td>\n",
       "      <td>1.4</td>\n",
       "      <td>0.2</td>\n",
       "      <td>Iris-setosa</td>\n",
       "    </tr>\n",
       "  </tbody>\n",
       "</table>\n",
       "</div>"
      ],
      "text/plain": [
       "    sl   sw   pl   pw        class\n",
       "0  5.1  3.5  1.4  0.2  Iris-setosa\n",
       "1  4.9  3.0  1.4  0.2  Iris-setosa\n",
       "2  4.7  3.2  1.3  0.2  Iris-setosa\n",
       "3  4.6  3.1  1.5  0.2  Iris-setosa\n",
       "4  5.0  3.6  1.4  0.2  Iris-setosa"
      ]
     },
     "execution_count": 5,
     "metadata": {},
     "output_type": "execute_result"
    }
   ],
   "source": [
    "df.head()"
   ]
  },
  {
   "cell_type": "code",
   "execution_count": 6,
   "metadata": {},
   "outputs": [
    {
     "data": {
      "text/plain": [
       "Iris-setosa        50\n",
       "Iris-versicolor    50\n",
       "Iris-virginica     50\n",
       "Name: class, dtype: int64"
      ]
     },
     "execution_count": 6,
     "metadata": {},
     "output_type": "execute_result"
    }
   ],
   "source": [
    "df['class'].value_counts()"
   ]
  },
  {
   "cell_type": "markdown",
   "metadata": {},
   "source": [
    "Dropping one class to create a binary classification case"
   ]
  },
  {
   "cell_type": "code",
   "execution_count": 7,
   "metadata": {},
   "outputs": [],
   "source": [
    "cond = df['class'] == df.loc[0, 'class']\n",
    "drop_idx = df[cond].index\n",
    "\n",
    "df = df.drop(index = drop_idx)"
   ]
  },
  {
   "cell_type": "code",
   "execution_count": 8,
   "metadata": {},
   "outputs": [
    {
     "name": "stdout",
     "output_type": "stream",
     "text": [
      "<class 'pandas.core.frame.DataFrame'>\n",
      "Int64Index: 100 entries, 50 to 149\n",
      "Data columns (total 5 columns):\n",
      "sl       100 non-null float64\n",
      "sw       100 non-null float64\n",
      "pl       100 non-null float64\n",
      "pw       100 non-null float64\n",
      "class    100 non-null object\n",
      "dtypes: float64(4), object(1)\n",
      "memory usage: 4.7+ KB\n"
     ]
    }
   ],
   "source": [
    "df.info()"
   ]
  },
  {
   "cell_type": "code",
   "execution_count": 9,
   "metadata": {},
   "outputs": [],
   "source": [
    "df['class'] = df['class'].map({'Iris-versicolor': 0, 'Iris-virginica': 1})"
   ]
  },
  {
   "cell_type": "code",
   "execution_count": 10,
   "metadata": {},
   "outputs": [],
   "source": [
    "# Shuffling dataframe\n",
    "df = df.sample(n = df.shape[0])"
   ]
  },
  {
   "cell_type": "markdown",
   "metadata": {},
   "source": [
    "### Visualizing Logistic Regression\n",
    "Here one feature will be used to predict the class in order to visualize results in a 2D graph."
   ]
  },
  {
   "cell_type": "markdown",
   "metadata": {},
   "source": [
    "Petal width (pw) has the highest correlation with the target variable (class)"
   ]
  },
  {
   "cell_type": "code",
   "execution_count": 20,
   "metadata": {},
   "outputs": [
    {
     "data": {
      "text/html": [
       "<div>\n",
       "<style scoped>\n",
       "    .dataframe tbody tr th:only-of-type {\n",
       "        vertical-align: middle;\n",
       "    }\n",
       "\n",
       "    .dataframe tbody tr th {\n",
       "        vertical-align: top;\n",
       "    }\n",
       "\n",
       "    .dataframe thead th {\n",
       "        text-align: right;\n",
       "    }\n",
       "</style>\n",
       "<table border=\"1\" class=\"dataframe\">\n",
       "  <thead>\n",
       "    <tr style=\"text-align: right;\">\n",
       "      <th></th>\n",
       "      <th>sl</th>\n",
       "      <th>sw</th>\n",
       "      <th>pl</th>\n",
       "      <th>pw</th>\n",
       "      <th>class</th>\n",
       "    </tr>\n",
       "  </thead>\n",
       "  <tbody>\n",
       "    <tr>\n",
       "      <td>sl</td>\n",
       "      <td>1.000000</td>\n",
       "      <td>0.553855</td>\n",
       "      <td>0.828479</td>\n",
       "      <td>0.593709</td>\n",
       "      <td>0.494305</td>\n",
       "    </tr>\n",
       "    <tr>\n",
       "      <td>sw</td>\n",
       "      <td>0.553855</td>\n",
       "      <td>1.000000</td>\n",
       "      <td>0.519802</td>\n",
       "      <td>0.566203</td>\n",
       "      <td>0.308080</td>\n",
       "    </tr>\n",
       "    <tr>\n",
       "      <td>pl</td>\n",
       "      <td>0.828479</td>\n",
       "      <td>0.519802</td>\n",
       "      <td>1.000000</td>\n",
       "      <td>0.823348</td>\n",
       "      <td>0.786424</td>\n",
       "    </tr>\n",
       "    <tr>\n",
       "      <td>pw</td>\n",
       "      <td>0.593709</td>\n",
       "      <td>0.566203</td>\n",
       "      <td>0.823348</td>\n",
       "      <td>1.000000</td>\n",
       "      <td>0.828129</td>\n",
       "    </tr>\n",
       "    <tr>\n",
       "      <td>class</td>\n",
       "      <td>0.494305</td>\n",
       "      <td>0.308080</td>\n",
       "      <td>0.786424</td>\n",
       "      <td>0.828129</td>\n",
       "      <td>1.000000</td>\n",
       "    </tr>\n",
       "  </tbody>\n",
       "</table>\n",
       "</div>"
      ],
      "text/plain": [
       "             sl        sw        pl        pw     class\n",
       "sl     1.000000  0.553855  0.828479  0.593709  0.494305\n",
       "sw     0.553855  1.000000  0.519802  0.566203  0.308080\n",
       "pl     0.828479  0.519802  1.000000  0.823348  0.786424\n",
       "pw     0.593709  0.566203  0.823348  1.000000  0.828129\n",
       "class  0.494305  0.308080  0.786424  0.828129  1.000000"
      ]
     },
     "execution_count": 20,
     "metadata": {},
     "output_type": "execute_result"
    }
   ],
   "source": [
    "df.corr()"
   ]
  },
  {
   "cell_type": "code",
   "execution_count": 22,
   "metadata": {},
   "outputs": [
    {
     "data": {
      "text/html": [
       "<div>\n",
       "<style scoped>\n",
       "    .dataframe tbody tr th:only-of-type {\n",
       "        vertical-align: middle;\n",
       "    }\n",
       "\n",
       "    .dataframe tbody tr th {\n",
       "        vertical-align: top;\n",
       "    }\n",
       "\n",
       "    .dataframe thead th {\n",
       "        text-align: right;\n",
       "    }\n",
       "</style>\n",
       "<table border=\"1\" class=\"dataframe\">\n",
       "  <thead>\n",
       "    <tr style=\"text-align: right;\">\n",
       "      <th></th>\n",
       "      <th>pw</th>\n",
       "      <th>class</th>\n",
       "    </tr>\n",
       "  </thead>\n",
       "  <tbody>\n",
       "    <tr>\n",
       "      <td>128</td>\n",
       "      <td>2.1</td>\n",
       "      <td>1</td>\n",
       "    </tr>\n",
       "    <tr>\n",
       "      <td>108</td>\n",
       "      <td>1.8</td>\n",
       "      <td>1</td>\n",
       "    </tr>\n",
       "    <tr>\n",
       "      <td>55</td>\n",
       "      <td>1.3</td>\n",
       "      <td>0</td>\n",
       "    </tr>\n",
       "    <tr>\n",
       "      <td>129</td>\n",
       "      <td>1.6</td>\n",
       "      <td>1</td>\n",
       "    </tr>\n",
       "    <tr>\n",
       "      <td>90</td>\n",
       "      <td>1.2</td>\n",
       "      <td>0</td>\n",
       "    </tr>\n",
       "  </tbody>\n",
       "</table>\n",
       "</div>"
      ],
      "text/plain": [
       "      pw  class\n",
       "128  2.1      1\n",
       "108  1.8      1\n",
       "55   1.3      0\n",
       "129  1.6      1\n",
       "90   1.2      0"
      ]
     },
     "execution_count": 22,
     "metadata": {},
     "output_type": "execute_result"
    }
   ],
   "source": [
    "df1 = df[['pw', 'class']]\n",
    "df1.head()"
   ]
  },
  {
   "cell_type": "code",
   "execution_count": 35,
   "metadata": {},
   "outputs": [],
   "source": [
    "X1 = df1['pw'].to_numpy().reshape(-1, 1)\n",
    "X1 = StandardScaler().fit_transform(X1)\n",
    "\n",
    "# Adding a column with ones for the bias\n",
    "X1 = np.concatenate([np.ones(X1.shape), X1], axis = 1)\n",
    "\n",
    "y1 = df['class'].to_numpy().reshape(-1, 1)"
   ]
  },
  {
   "cell_type": "code",
   "execution_count": 46,
   "metadata": {},
   "outputs": [],
   "source": [
    "# Number of data points\n",
    "n = X1.shape[0]\n",
    "\n",
    "# Number of features\n",
    "d = X1.shape[1]\n",
    "\n",
    "theta = np.random.rand(d).reshape(-1, 1)\n",
    "prev_theta = np.zeros(d).reshape(-1, 1) + 1000\n",
    "\n",
    "tolerance = 0.0001\n",
    "i = 0\n",
    "\n",
    "while any(np.abs(theta - prev_theta) > tolerance):\n",
    "    prev_theta = theta.copy()\n",
    "\n",
    "    pi = sigmoid(X1 @ theta)\n",
    "    S = np.diagflat(pi*(1-pi))\n",
    "\n",
    "    theta = np.linalg.solve(X1.T @ S @ X1, X1.T @ (S@X1@theta + y1 - pi))\n",
    "    i += 1\n",
    "    if i>100:\n",
    "        break\n",
    "\n",
    "predictions = sigmoid(X1 @ theta)"
   ]
  },
  {
   "cell_type": "code",
   "execution_count": 113,
   "metadata": {},
   "outputs": [
    {
     "data": {
      "image/png": "[encoded data removed]",
      "text/plain": [
       "<Figure size 864x576 with 2 Axes>"
      ]
     },
     "metadata": {
      "needs_background": "light"
     },
     "output_type": "display_data"
    }
   ],
   "source": [
    "fig, ax = plt.subplots(figsize = (12, 8))\n",
    "\n",
    "cmap = mpl.colors.ListedColormap(colors = ['limegreen', 'skyblue'])\n",
    "\n",
    "ss = ax.scatter(x = df['pw'], y = df['class'], c = df['class'], cmap = cmap)\n",
    "ax.plot(df['pw'], predictions, 'kx', label = 'Logistic Reg. Predictions')\n",
    "\n",
    "ax.set_xlabel('Petal Width')\n",
    "ax.set_ylabel('Virginica Probability')\n",
    "\n",
    "cbar = fig.colorbar(ss, cmap = cmap, ticks = [0.25, 0.75], ax = ax, shrink = 0.6, label = 'Real Class')\n",
    "cbar.ax.set_yticklabels(['Versicolor', 'Virginica'])\n",
    "\n",
    "ax.set_yticks(np.linspace(0, 1, 11))\n",
    "ax.legend()\n",
    "plt.show()"
   ]
  },
  {
   "cell_type": "markdown",
   "metadata": {},
   "source": [
    "### Predictions using all features"
   ]
  },
  {
   "cell_type": "code",
   "execution_count": 108,
   "metadata": {},
   "outputs": [],
   "source": [
    "X = np.asarray(df.iloc[:, :-1])\n",
    "y = np.asarray(df['class'])\n",
    "\n",
    "scale = StandardScaler()\n",
    "X_norm = scale.fit_transform(X)"
   ]
  },
  {
   "cell_type": "markdown",
   "metadata": {},
   "source": [
    "Creating a class for logistic regression fitting and predicting"
   ]
  },
  {
   "cell_type": "code",
   "execution_count": 109,
   "metadata": {},
   "outputs": [],
   "source": [
    "class LogRegression:\n",
    "    \n",
    "    def fit (self, X, y):\n",
    "        n = X.shape[0]\n",
    "        d = X.shape[1]\n",
    "        \n",
    "        theta = np.random.rand(d).reshape(-1, 1)\n",
    "        prev_theta = np.zeros(d).reshape(-1, 1) + 1000\n",
    "        \n",
    "        y = y.reshape(-1, 1)\n",
    "        \n",
    "        tolerance = 0.0001\n",
    "        i = 0\n",
    "        \n",
    "        while any(np.abs(theta - prev_theta) > tolerance):\n",
    "            prev_theta = theta.copy()\n",
    "            \n",
    "            pi = sigmoid(X @ theta)\n",
    "            S = np.diagflat(pi*(1-pi))\n",
    "    \n",
    "            theta = np.linalg.solve(X.T @ S @ X, X.T @ (S@X@theta + y - pi))\n",
    "            i += 1\n",
    "            if i>100:\n",
    "                break\n",
    "            \n",
    "        self.theta = theta\n",
    "    \n",
    "    def predict (self, X):\n",
    "        return np.around(sigmoid(X @ self.theta))"
   ]
  },
  {
   "cell_type": "markdown",
   "metadata": {},
   "source": [
    "Adding a column of ones to be multiplied by the bias (intercept)"
   ]
  },
  {
   "cell_type": "code",
   "execution_count": 110,
   "metadata": {},
   "outputs": [],
   "source": [
    "X_myclass = np.concatenate((np.ones((X_norm.shape[0], 1)), X_norm), axis = 1)"
   ]
  },
  {
   "cell_type": "markdown",
   "metadata": {},
   "source": [
    "**Comparison with scikit-learn LogisticRegression**"
   ]
  },
  {
   "cell_type": "code",
   "execution_count": 111,
   "metadata": {
    "scrolled": true
   },
   "outputs": [
    {
     "name": "stdout",
     "output_type": "stream",
     "text": [
      "My model:\n",
      "Intercept:  -0.35439119051211215\n",
      "Coefficients:  [-1.62584216] [-2.21192859] [7.74567601] [7.72844057]\n",
      "\n",
      "Scikit-learn model:\n",
      "Intercept:  -0.35435519968998364\n",
      "Coefficients:  [-1.6258004  -2.21195472  7.74565206  7.7285987 ]\n"
     ]
    }
   ],
   "source": [
    "classifier = LogRegression()\n",
    "classifier.fit(X_myclass, y)\n",
    "\n",
    "print('My model:')\n",
    "print('Intercept: ', classifier.theta[0, 0])\n",
    "print('Coefficients: ', *classifier.theta[1:])\n",
    "\n",
    "log_class = LogisticRegression(solver = 'lbfgs', penalty = 'none')\n",
    "log_class.fit(X_norm, y)\n",
    "\n",
    "print('\\nScikit-learn model:')\n",
    "print('Intercept: ', *log_class.intercept_)\n",
    "print('Coefficients: ', *log_class.coef_)"
   ]
  },
  {
   "cell_type": "markdown",
   "metadata": {},
   "source": [
    "### Logistic Regression with Regularization"
   ]
  },
  {
   "cell_type": "markdown",
   "metadata": {},
   "source": [
    "Regularization was done by adding a diagonal matrix of lmbda values **Why??**\n",
    "\n",
    "Results confrom with scikit learn `LogisicRegression(solver = 'liblinear')`"
   ]
  },
  {
   "cell_type": "markdown",
   "metadata": {},
   "source": [
    "Logistic regression cost function (negative log likelihood) with an L2 regularizer:\n",
    "$$ \\prod_{i=1}^{n} \\pi_i^{y_i} \\cdot (1 - \\pi_i)^{1-y_i} $$\n",
    "\n",
    "$$ J(\\theta) = -\\sum^{n}_{i=1} y_i log \\pi_i -\\sum^{n}_{i=1} (1-y_i) log (1-\\pi_i) + \\frac{1}{2}\\lambda \\theta_i^2 $$\n",
    "\n",
    "Gradient:\n",
    "\n",
    "$$ \\frac{d(J(\\theta))}{d\\theta} = g = \\sum_{i=1}^n x_i^T (\\pi_i - y_i) + \\lambda \\theta_i= X^T (\\pi - y) + \\lambda I \\theta $$\n",
    "\n",
    "Hessian:\n",
    "\n",
    "$$ H = X^T S X + \\lambda I $$\n",
    "\n",
    "Where:\n",
    "* $I$ is the identity matrix of size ($d \\cdot d$)\n",
    "\n",
    "Gradient descent using Newton's method:\n",
    "\\begin{align*}\n",
    "\\theta_{k+1} &= \\theta_k - H^{-1}_k \\cdot g_k \\\\\n",
    "             &= \\theta_k - (X^T S X + \\lambda I)^{-1} (X^T (\\pi - y) + \\lambda \\theta)\n",
    "\\end{align*}\n",
    "\n",
    "Gradient descent using a constant learning rate (step size):\n",
    "$$ \\theta_{k+1} = \\theta_k - \\alpha \\cdot g_k $$\n",
    "\n",
    "[Check this Stackoverflow on scikit-learn solvers](https://stackoverflow.com/questions/38640109/logistic-regression-python-solvers-definitions)"
   ]
  },
  {
   "cell_type": "markdown",
   "metadata": {},
   "source": [
    "#### Implementation:"
   ]
  },
  {
   "cell_type": "code",
   "execution_count": 15,
   "metadata": {},
   "outputs": [],
   "source": [
    "def _grad_descent_reg(X, y, alpha, lmbda, tolerance = 0.0001, print_steps = False, max_iter = 100):\n",
    "    \"\"\"\n",
    "    Compute L2 regularized logistic regression coefficients and intercept using gradient descent algorithm\n",
    "    Note: The intercept is affected by the regularization\n",
    "    \n",
    "    Parameters:\n",
    "    ----------\n",
    "    \n",
    "    alpha: Step size in the direction of the gradient descent\n",
    "    \n",
    "    lmbda: L2 regularization factor, where a large lmbda indicates higher regularization\n",
    "\n",
    "    \"\"\"\n",
    "    n = X.shape[0]\n",
    "    d = X.shape[1]\n",
    "    \n",
    "    prev_theta = np.zeros(d).reshape(-1, 1) + 1000\n",
    "    theta = np.random.rand(d).reshape(-1, 1)\n",
    "    \n",
    "    i = 0\n",
    "    \n",
    "    while any(np.abs(theta - prev_theta) > tolerance):\n",
    "        pi = sigmoid(X @ theta)\n",
    "        \n",
    "        prev_theta = theta.copy()\n",
    "        theta = theta - alpha * (X.T @ (pi - y) + lmbda*theta)\n",
    "        \n",
    "        i += 1\n",
    "        \n",
    "        if print_steps is True:\n",
    "            print('Iteration: ', i)\n",
    "            print(np.sum((theta - prev_theta)**2))\n",
    "            \n",
    "        if i>max_iter:\n",
    "            print('Exceeded {} Iterations'.format(max_iter))\n",
    "            break\n",
    "            \n",
    "    return (theta, i)\n",
    "\n",
    "\n",
    "def _grad_descent(X, y, alpha, tolerance = 0.0001, print_steps = False, max_iter = False):\n",
    "    \"\"\"\n",
    "    Compute logistic regression coefficients and intercept using gradient descent algorithm\n",
    "    \n",
    "    Parameters:\n",
    "    ----------\n",
    "    \n",
    "    alpha: Step size in the direction of the gradient descent\n",
    "\n",
    "    \"\"\"\n",
    "    n = X.shape[0]\n",
    "    d = X.shape[1]\n",
    "    \n",
    "    prev_theta = np.zeros(d).reshape(-1, 1) + 1000\n",
    "    theta = np.random.rand(d).reshape(-1, 1)\n",
    "    \n",
    "    i = 0\n",
    "    \n",
    "    while any(np.abs(theta - prev_theta) > tolerance):\n",
    "        \n",
    "        pi = sigmoid(X @ theta)\n",
    "        \n",
    "        prev_theta = theta.copy()\n",
    "        theta = theta - alpha * X.T @ (pi - y)\n",
    "        \n",
    "        i += 1\n",
    "        \n",
    "        if print_steps is True:\n",
    "            print('Iteration: ', i)\n",
    "            print(np.sum((theta - prev_theta)**2))\n",
    "            \n",
    "        if i>max_iter:\n",
    "            print('Exceeded {} Iterations'.format(max_iter))\n",
    "            break\n",
    "            \n",
    "    return (theta, i)\n",
    "\n",
    "  \n",
    "def _newton_reg(X, y, lmbda, tolerance = 0.0001, print_steps = False, max_iter = False):\n",
    "    \"\"\"\n",
    "    Compute L2 regularized logistic regression coefficients and intercept using Newton's method\n",
    "    Note: The intercept is affected by the regularization\n",
    "    \n",
    "    Parameters:\n",
    "    ----------\n",
    "    \n",
    "    lmbda: L2 regularization factor, where a large lmbda indicates higher regularization\n",
    "\n",
    "    \"\"\"\n",
    "    n = X.shape[0]\n",
    "    d = X.shape[1]\n",
    "    \n",
    "    prev_theta = np.zeros(d).reshape(-1, 1) + 1000\n",
    "    theta = np.random.rand(d).reshape(-1, 1)\n",
    "    \n",
    "    i = 0\n",
    "    \n",
    "    while any(np.abs(theta - prev_theta) > tolerance):\n",
    "        pi = sigmoid(X @ theta)\n",
    "        S = np.diagflat(pi*(1-pi))\n",
    "        \n",
    "        prev_theta = theta.copy()\n",
    "        dtheta = - np.linalg.inv(X.T @ S @ X + lmbda*np.eye(d)) @ (X.T @ (pi - y) + lmbda*theta)\n",
    "        theta = theta + dtheta\n",
    "        \n",
    "        i += 1\n",
    "        \n",
    "        if print_steps is True:\n",
    "            print('Iteration: ', i)\n",
    "            print(np.sum((theta - prev_theta)**2))\n",
    "            \n",
    "        if i>max_iter:\n",
    "            print('Exceeded {} Iterations'.format(max_iter))\n",
    "            break\n",
    "            \n",
    "    return (theta, i)\n",
    "\n",
    "def _newton(X, y, tolerance = 0.0001, print_steps = False, max_iter = False):\n",
    "    \"\"\"\n",
    "    Compute logistic regression coefficients and intercept using Newton's method\n",
    "    \n",
    "    \"\"\"\n",
    "    \n",
    "    n = X.shape[0]\n",
    "    d = X.shape[1]\n",
    "    \n",
    "    prev_theta = np.zeros(d).reshape(-1, 1) + 1000\n",
    "    theta = np.random.rand(d).reshape(-1, 1)\n",
    "    \n",
    "    i = 0\n",
    "    \n",
    "    while any(np.abs(theta - prev_theta) > tolerance):\n",
    "        pi = sigmoid(X @ theta)\n",
    "        S = np.diagflat(pi*(1-pi))\n",
    "        \n",
    "        prev_theta = theta.copy()\n",
    "        theta = np.linalg.solve(X.T @ S @ X, X.T @ (S@X@theta + y - pi))\n",
    "        \n",
    "        i += 1\n",
    "        \n",
    "        if print_steps is True:\n",
    "            print('Iteration: ', i)\n",
    "            print(np.sum((theta - prev_theta)**2))\n",
    "            \n",
    "        if i>max_iter:\n",
    "            print('Exceeded {} Iterations'.format(max_iter))\n",
    "            break\n",
    "            \n",
    "    return (theta, i)\n",
    "\n",
    "\n",
    "class LogRegression:\n",
    "    '''\n",
    "    Apply logistic regression on data with a binary target\n",
    "    \n",
    "    Parameters:\n",
    "    ----------\n",
    "    \n",
    "    lmbda: Regularization factor, the larger lmbda is the more regularized the model is\n",
    "    \n",
    "    alpha: Learning rate if newton_method is set to False\n",
    "    \n",
    "    regularizer: Boolean to determine whether to include an L2 regularizer or not\n",
    "    \n",
    "    newton_method: Boolean to determine whether to use newton's method (hessian matrix instead of learning rate)\n",
    "    \n",
    "    print_steps: Boolean to determine whether to print the variation\n",
    "                 between two following iterations of the coefficient vector.\n",
    "                 The variation is computed as the sum of squared differences.\n",
    "    '''\n",
    "    def __init__ (self, lmbda = 1, alpha = 0.01, regularizer = False, newton_method = False, print_steps = False):\n",
    "        self.lmbda = lmbda\n",
    "        self.alpha = alpha\n",
    "        self.regularizer = regularizer\n",
    "        self.newton_method = newton_method\n",
    "        self.print_steps = print_steps\n",
    "        \n",
    "    def fit(self, X, y):\n",
    "        \n",
    "        \n",
    "        y = y.reshape(-1, 1)\n",
    "        \n",
    "        max_iter = 1000\n",
    "        tolerance = 0.0001\n",
    "        i = 0\n",
    "        \n",
    "        if self.newton_method is True:\n",
    "            if self.regularizer is True:\n",
    "                self.theta, self.n_iter = _newton_reg(X, y,\n",
    "                                                      lmbda = self.lmbda,\n",
    "                                                      tolerance = tolerance,\n",
    "                                                      print_steps = self.print_steps,\n",
    "                                                      max_iter = max_iter)\n",
    "            else:\n",
    "                self.theta, self.n_iter = _newton(X, y,\n",
    "                                                      tolerance = tolerance,\n",
    "                                                      print_steps = self.print_steps,\n",
    "                                                      max_iter = max_iter)\n",
    "        else:\n",
    "            if self.regularizer is True:\n",
    "                self.theta, self.n_iter = _grad_descent_reg(X, y,\n",
    "                                                            alpha = self.alpha,\n",
    "                                                            lmbda = self.lmbda,\n",
    "                                                            tolerance = tolerance,\n",
    "                                                            print_steps = self.print_steps,\n",
    "                                                            max_iter = max_iter)\n",
    "            else:\n",
    "                self.theta, self.n_iter = _grad_descent(X, y,\n",
    "                                                            alpha = self.alpha,\n",
    "                                                            tolerance = tolerance,\n",
    "                                                            print_steps = self.print_steps,\n",
    "                                                            max_iter = max_iter)\n",
    "            \n",
    "    \n",
    "    def predict(self, X):\n",
    "        return np.around(sigmoid(X @ self.theta))"
   ]
  },
  {
   "cell_type": "code",
   "execution_count": 16,
   "metadata": {},
   "outputs": [],
   "source": [
    "X_myclass = np.concatenate((np.ones((X_norm.shape[0], 1)), X_norm), axis = 1)\n",
    "# X_myclass = np.concatenate((np.ones((X_norm.shape[0], 1)), X), axis = 1)"
   ]
  },
  {
   "cell_type": "markdown",
   "metadata": {},
   "source": [
    "**Comparison with scikit-learn LogisticRegression**"
   ]
  },
  {
   "cell_type": "code",
   "execution_count": 17,
   "metadata": {
    "scrolled": true
   },
   "outputs": [
    {
     "name": "stdout",
     "output_type": "stream",
     "text": [
      "My model:\n",
      "Number of iterations:  6\n",
      "Intercept:  0.070192698385558\n",
      "Coefficients:  [-0.1070882] [-0.43694553] [1.7362964] [1.9339381]\n",
      "Score:  0.96\n",
      "\n",
      "Scikit-learn model:\n",
      "Number of iterations:  6\n",
      "Intercept:  0.07018142268211375\n",
      "Coefficients:  [-0.10710097 -0.43696694  1.73626425  1.93396372]\n",
      "Score:  0.96\n"
     ]
    }
   ],
   "source": [
    "# INPUT\n",
    "\n",
    "# Regularization factor\n",
    "lmbda = 2\n",
    "\n",
    "# Inverse of regularization factor (for Scikit-learn model)\n",
    "C = 1/lmbda\n",
    "\n",
    "# Step size for steepest descent\n",
    "alpha = 0.08\n",
    "\n",
    "regularizer = True\n",
    "newton_method = True\n",
    "print_steps = False\n",
    "\n",
    "solver = 'liblinear'\n",
    "\n",
    "if regularizer is True:\n",
    "    penalty = 'l2'\n",
    "else:\n",
    "    solver = 'newton-cg'\n",
    "    penalty = 'none'\n",
    "\n",
    "\n",
    "classifier = LogRegression(lmbda = lmbda, alpha = alpha,\n",
    "                           regularizer = regularizer, newton_method = newton_method, print_steps = print_steps)\n",
    "classifier.fit(X_myclass, y)\n",
    "\n",
    "y_hat = classifier.predict(X_myclass)\n",
    "score = (y_hat.flatten() == y).sum() / y.shape[0]\n",
    "\n",
    "print('My model:')\n",
    "print('Number of iterations: ', classifier.n_iter)\n",
    "print('Intercept: ', classifier.theta[0, 0])\n",
    "print('Coefficients: ', *classifier.theta[1:])\n",
    "print('Score: ', score)\n",
    "\n",
    "log_class = LogisticRegression(solver = solver, penalty = penalty, C = C)\n",
    "log_class.fit(X_norm, y)\n",
    "y_hat = log_class.predict(X_norm)\n",
    "score = (y_hat.flatten() == y).sum() / y.shape[0]\n",
    "\n",
    "print('\\nScikit-learn model:')\n",
    "print('Number of iterations: ', log_class.n_iter_[0])\n",
    "print('Intercept: ', *log_class.intercept_)\n",
    "print('Coefficients: ', *log_class.coef_)\n",
    "print('Score: ', score)"
   ]
  },
  {
   "cell_type": "markdown",
   "metadata": {},
   "source": [
    "### To do:\n",
    "* Search about the effect of data normalization on logisitic regression\n",
    "* Check if the scikit-learn LogisticRegression model normalizes data\n",
    "* Apply line search and create a plot to show convergance path\n",
    "* Apply a multi-class logistic regression model\n"
   ]
  }
 ],
 "metadata": {
  "kernelspec": {
   "display_name": "Python 3",
   "language": "python",
   "name": "python3"
  },
  "language_info": {
   "codemirror_mode": {
    "name": "ipython",
    "version": 3
   },
   "file_extension": ".py",
   "mimetype": "text/x-python",
   "name": "python",
   "nbconvert_exporter": "python",
   "pygments_lexer": "ipython3",
   "version": "3.7.4"
  }
 },
 "nbformat": 4,
 "nbformat_minor": 2
}
